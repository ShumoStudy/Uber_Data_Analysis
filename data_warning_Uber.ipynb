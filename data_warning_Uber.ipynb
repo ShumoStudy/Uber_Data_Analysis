{
 "cells": [
  {
   "cell_type": "markdown",
   "metadata": {},
   "source": [
    "## 读取数据"
   ]
  },
  {
   "cell_type": "code",
   "execution_count": 1,
   "metadata": {},
   "outputs": [],
   "source": [
    "# 导包\n",
    "import pandas as pd\n",
    "import seaborn as sns\n",
    "import matplotlib.pyplot as plt\n",
    "# 计算目的地经纬度距离\n",
    "from haversine import haversine\n",
    "import numpy as np\n",
    "# 时间差 转换成秒\n",
    "from datetime import timedelta\n",
    "# 导入地理可视化库\n",
    "import folium\n",
    "from folium.plugins import MarkerCluster,HeatMap\n",
    "from folium import Marker\n",
    "import os\n",
    "\n",
    "from pyecharts import options as opts\n",
    "from pyecharts.charts import Bar, Timeline\n",
    "\n",
    "# 绘制饼图\n",
    "from pyecharts.charts import Pie, Timeline,Grid\n",
    "#from pyecharts.faker import Faker\n",
    "\n",
    "from sklearn.model_selection import train_test_split\n",
    "from sklearn.neighbors import KNeighborsClassifier\n",
    "from sklearn.preprocessing import StandardScaler\n",
    "%matplotlib inline"
   ]
  },
  {
   "cell_type": "code",
   "execution_count": 2,
   "metadata": {},
   "outputs": [
    {
     "name": "stdout",
     "output_type": "stream",
     "text": [
      "Number of rows in the table is:  1968685\n"
     ]
    },
    {
     "data": {
      "text/plain": "   VendorID tpep_pickup_datetime tpep_dropoff_datetime  passenger_count  \\\n0         0       0/0/0 00:00:00        0/0/0 00:00:00                0   \n1         2    1/1/2016 00:00:00     1/1/2016 00:00:00                2   \n2         2    1/1/2016 00:00:00     1/1/2016 00:00:00                5   \n3         2    1/1/2016 00:00:00     1/1/2016 00:00:00                1   \n4         2    1/1/2016 00:00:00     1/1/2016 00:00:00                1   \n\n   trip_distance  pickup_longitude  pickup_latitude  RatecodeID  \\\n0           0.00          0.000000         0.000000           0   \n1           1.10        -73.990372        40.734695           1   \n2           4.90        -73.980782        40.729912           1   \n3          10.54        -73.984550        40.679565           1   \n4           4.75        -73.993469        40.718990           1   \n\n  store_and_fwd_flag  dropoff_longitude  dropoff_latitude  payment_type  \\\n0              store           0.000000          0.000000             0   \n1                  N         -73.981842         40.732407             2   \n2                  N         -73.944473         40.716679             1   \n3                  N         -73.950272         40.788925             1   \n4                  N         -73.962242         40.657333             2   \n\n   fare_amount  extra  mta_tax  tip_amount  tolls_amount  \\\n0          0.0    0.0      0.0         0.0           0.0   \n1          7.5    0.5      0.5         0.0           0.0   \n2         18.0    0.5      0.5         0.0           0.0   \n3         33.0    0.5      0.5         0.0           0.0   \n4         16.5    0.0      0.5         0.0           0.0   \n\n   improvement_surcharge  total_amount  \n0                    0.0           0.0  \n1                    0.3           8.8  \n2                    0.3          19.3  \n3                    0.3          34.3  \n4                    0.3          17.3  ",
      "text/html": "<div>\n<style scoped>\n    .dataframe tbody tr th:only-of-type {\n        vertical-align: middle;\n    }\n\n    .dataframe tbody tr th {\n        vertical-align: top;\n    }\n\n    .dataframe thead th {\n        text-align: right;\n    }\n</style>\n<table border=\"1\" class=\"dataframe\">\n  <thead>\n    <tr style=\"text-align: right;\">\n      <th></th>\n      <th>VendorID</th>\n      <th>tpep_pickup_datetime</th>\n      <th>tpep_dropoff_datetime</th>\n      <th>passenger_count</th>\n      <th>trip_distance</th>\n      <th>pickup_longitude</th>\n      <th>pickup_latitude</th>\n      <th>RatecodeID</th>\n      <th>store_and_fwd_flag</th>\n      <th>dropoff_longitude</th>\n      <th>dropoff_latitude</th>\n      <th>payment_type</th>\n      <th>fare_amount</th>\n      <th>extra</th>\n      <th>mta_tax</th>\n      <th>tip_amount</th>\n      <th>tolls_amount</th>\n      <th>improvement_surcharge</th>\n      <th>total_amount</th>\n    </tr>\n  </thead>\n  <tbody>\n    <tr>\n      <th>0</th>\n      <td>0</td>\n      <td>0/0/0 00:00:00</td>\n      <td>0/0/0 00:00:00</td>\n      <td>0</td>\n      <td>0.00</td>\n      <td>0.000000</td>\n      <td>0.000000</td>\n      <td>0</td>\n      <td>store</td>\n      <td>0.000000</td>\n      <td>0.000000</td>\n      <td>0</td>\n      <td>0.0</td>\n      <td>0.0</td>\n      <td>0.0</td>\n      <td>0.0</td>\n      <td>0.0</td>\n      <td>0.0</td>\n      <td>0.0</td>\n    </tr>\n    <tr>\n      <th>1</th>\n      <td>2</td>\n      <td>1/1/2016 00:00:00</td>\n      <td>1/1/2016 00:00:00</td>\n      <td>2</td>\n      <td>1.10</td>\n      <td>-73.990372</td>\n      <td>40.734695</td>\n      <td>1</td>\n      <td>N</td>\n      <td>-73.981842</td>\n      <td>40.732407</td>\n      <td>2</td>\n      <td>7.5</td>\n      <td>0.5</td>\n      <td>0.5</td>\n      <td>0.0</td>\n      <td>0.0</td>\n      <td>0.3</td>\n      <td>8.8</td>\n    </tr>\n    <tr>\n      <th>2</th>\n      <td>2</td>\n      <td>1/1/2016 00:00:00</td>\n      <td>1/1/2016 00:00:00</td>\n      <td>5</td>\n      <td>4.90</td>\n      <td>-73.980782</td>\n      <td>40.729912</td>\n      <td>1</td>\n      <td>N</td>\n      <td>-73.944473</td>\n      <td>40.716679</td>\n      <td>1</td>\n      <td>18.0</td>\n      <td>0.5</td>\n      <td>0.5</td>\n      <td>0.0</td>\n      <td>0.0</td>\n      <td>0.3</td>\n      <td>19.3</td>\n    </tr>\n    <tr>\n      <th>3</th>\n      <td>2</td>\n      <td>1/1/2016 00:00:00</td>\n      <td>1/1/2016 00:00:00</td>\n      <td>1</td>\n      <td>10.54</td>\n      <td>-73.984550</td>\n      <td>40.679565</td>\n      <td>1</td>\n      <td>N</td>\n      <td>-73.950272</td>\n      <td>40.788925</td>\n      <td>1</td>\n      <td>33.0</td>\n      <td>0.5</td>\n      <td>0.5</td>\n      <td>0.0</td>\n      <td>0.0</td>\n      <td>0.3</td>\n      <td>34.3</td>\n    </tr>\n    <tr>\n      <th>4</th>\n      <td>2</td>\n      <td>1/1/2016 00:00:00</td>\n      <td>1/1/2016 00:00:00</td>\n      <td>1</td>\n      <td>4.75</td>\n      <td>-73.993469</td>\n      <td>40.718990</td>\n      <td>1</td>\n      <td>N</td>\n      <td>-73.962242</td>\n      <td>40.657333</td>\n      <td>2</td>\n      <td>16.5</td>\n      <td>0.0</td>\n      <td>0.5</td>\n      <td>0.0</td>\n      <td>0.0</td>\n      <td>0.3</td>\n      <td>17.3</td>\n    </tr>\n  </tbody>\n</table>\n</div>"
     },
     "execution_count": 2,
     "metadata": {},
     "output_type": "execute_result"
    }
   ],
   "source": [
    "# 这部分代码是从文件中读取数据，以便我们可以纠正它\n",
    "data = pd.read_csv('F:\\study\\Python project\\PythonDataAnalysis\\Practical training\\\\Uber\\\\traffic_location.csv')\n",
    "print(\"Number of rows in the table is: \",len(data))\n",
    "data.head()"
   ]
  },
  {
   "cell_type": "code",
   "execution_count": 3,
   "metadata": {},
   "outputs": [
    {
     "data": {
      "text/plain": "Index(['VendorID', 'tpep_pickup_datetime', 'tpep_dropoff_datetime',\n       'passenger_count', 'trip_distance', 'pickup_longitude',\n       'pickup_latitude', 'RatecodeID', 'store_and_fwd_flag',\n       'dropoff_longitude', 'dropoff_latitude', 'payment_type', 'fare_amount',\n       'extra', 'mta_tax', 'tip_amount', 'tolls_amount',\n       'improvement_surcharge', 'total_amount'],\n      dtype='object')"
     },
     "execution_count": 3,
     "metadata": {},
     "output_type": "execute_result"
    }
   ],
   "source": [
    "data.columns"
   ]
  },
  {
   "cell_type": "markdown",
   "metadata": {},
   "source": [
    "## 经纬度clean\n",
    "## 纬度范围北纬25到北纬49之间\n",
    "## 经度范围在西经70到130之间"
   ]
  },
  {
   "cell_type": "markdown",
   "metadata": {},
   "source": [
    "### 接单经纬度范围处理"
   ]
  },
  {
   "cell_type": "markdown",
   "metadata": {},
   "source": [
    "### 接单经度"
   ]
  },
  {
   "cell_type": "code",
   "execution_count": 4,
   "metadata": {},
   "outputs": [
    {
     "data": {
      "text/plain": "count    1.968685e+06\nmean    -7.271181e+01\nstd      9.569177e+00\nmin     -1.219343e+02\n25%     -7.399104e+01\n50%     -7.398064e+01\n75%     -7.396399e+01\nmax      0.000000e+00\nName: pickup_longitude, dtype: float64"
     },
     "execution_count": 4,
     "metadata": {},
     "output_type": "execute_result"
    }
   ],
   "source": [
    "data['pickup_longitude'].describe()"
   ]
  },
  {
   "cell_type": "code",
   "execution_count": 5,
   "metadata": {},
   "outputs": [
    {
     "name": "stdout",
     "output_type": "stream",
     "text": [
      "outlier is: 33516\n",
      "new data is 1935169\n"
     ]
    }
   ],
   "source": [
    "outlier = data[(data['pickup_longitude'] <-130) | (data['pickup_longitude']>-60)]\n",
    "print(\"outlier is:\",len(outlier))\n",
    "data1 = data[(data['pickup_longitude'] >-130) & (data['pickup_longitude']<-60)]\n",
    "print(\"new data is\",len(data1))"
   ]
  },
  {
   "cell_type": "markdown",
   "metadata": {},
   "source": [
    "### 接单纬度"
   ]
  },
  {
   "cell_type": "code",
   "execution_count": 6,
   "metadata": {},
   "outputs": [
    {
     "data": {
      "text/plain": "count    1.935169e+06\nmean     4.075072e+01\nstd      3.953139e-02\nmin      2.930932e+01\n25%      4.073751e+01\n50%      4.075495e+01\n75%      4.076904e+01\nmax      5.726928e+01\nName: pickup_latitude, dtype: float64"
     },
     "execution_count": 6,
     "metadata": {},
     "output_type": "execute_result"
    }
   ],
   "source": [
    "data1['pickup_latitude'].describe()"
   ]
  },
  {
   "cell_type": "code",
   "execution_count": 7,
   "metadata": {},
   "outputs": [
    {
     "name": "stdout",
     "output_type": "stream",
     "text": [
      "outlier is: 1\n",
      "new data is  1935168\n"
     ]
    }
   ],
   "source": [
    "outlier = data1[(data1['pickup_latitude'] > 49) | (data1['pickup_latitude'] < 25)]\n",
    "print(\"outlier is:\",len(outlier))\n",
    "data2 = data1[(data1['pickup_latitude'] < 49) & (data1['pickup_latitude'] > 25)]\n",
    "print(\"new data is \",len(data2))"
   ]
  },
  {
   "cell_type": "markdown",
   "metadata": {},
   "source": [
    "### 目的地经度"
   ]
  },
  {
   "cell_type": "code",
   "execution_count": 8,
   "metadata": {},
   "outputs": [
    {
     "data": {
      "text/plain": "count    1.935168e+06\nmean    -7.386437e+01\nstd      2.829454e+00\nmin     -1.219335e+02\n25%     -7.399072e+01\n50%     -7.397915e+01\n75%     -7.396164e+01\nmax      0.000000e+00\nName: dropoff_longitude, dtype: float64"
     },
     "execution_count": 8,
     "metadata": {},
     "output_type": "execute_result"
    }
   ],
   "source": [
    "data2['dropoff_longitude'].describe()"
   ]
  },
  {
   "cell_type": "code",
   "execution_count": 9,
   "metadata": {},
   "outputs": [
    {
     "name": "stdout",
     "output_type": "stream",
     "text": [
      "outlier is  2833\n",
      "new data is  1932335\n"
     ]
    }
   ],
   "source": [
    "outlier = data2[(data2['dropoff_longitude'] <-130) | (data2['dropoff_longitude']>-60)]\n",
    "print(\"outlier is \",len(outlier))\n",
    "data3 = data2[(data2['dropoff_longitude'] >-130) & (data2['dropoff_longitude']<-60)]\n",
    "print(\"new data is \",len(data3))"
   ]
  },
  {
   "cell_type": "markdown",
   "metadata": {},
   "source": [
    "### 目的地纬度"
   ]
  },
  {
   "cell_type": "code",
   "execution_count": 10,
   "metadata": {},
   "outputs": [
    {
     "data": {
      "text/plain": "count    1.932335e+06\nmean     4.075191e+01\nstd      5.767921e-02\nmin      6.666670e-01\n25%      4.073604e+01\n50%      4.075499e+01\n75%      4.077052e+01\nmax      4.823333e+01\nName: dropoff_latitude, dtype: float64"
     },
     "execution_count": 10,
     "metadata": {},
     "output_type": "execute_result"
    }
   ],
   "source": [
    "data3['dropoff_latitude'].describe()"
   ]
  },
  {
   "cell_type": "code",
   "execution_count": 11,
   "metadata": {},
   "outputs": [
    {
     "name": "stdout",
     "output_type": "stream",
     "text": [
      "outlier is  2\n",
      "new data is  1932333\n"
     ]
    }
   ],
   "source": [
    "outlier = data3[(data3['dropoff_latitude'] > 49) | (data3['dropoff_latitude'] <25)]\n",
    "print(\"outlier is \",len(outlier))\n",
    "data4 = data3[(data3['dropoff_latitude'] < 49) & (data3['dropoff_latitude'] >25)]\n",
    "print(\"new data is \",len(data4))"
   ]
  },
  {
   "cell_type": "markdown",
   "metadata": {},
   "source": [
    "### 接单经纬度整体处理"
   ]
  },
  {
   "cell_type": "code",
   "execution_count": 12,
   "metadata": {},
   "outputs": [
    {
     "data": {
      "text/plain": "           VendorID  passenger_count  trip_distance  pickup_longitude  \\\ncount  1.932333e+06     1.932333e+06   1.932333e+06      1.932333e+06   \nmean   1.542892e+00     1.708353e+00   8.399888e+00     -7.397106e+01   \nstd    4.981570e-01     1.337447e+00   5.864120e+03      1.067420e-01   \nmin    1.000000e+00     0.000000e+00   0.000000e+00     -1.219343e+02   \n25%    1.000000e+00     1.000000e+00   1.000000e+00     -7.399119e+01   \n50%    2.000000e+00     1.000000e+00   1.700000e+00     -7.398102e+01   \n75%    2.000000e+00     2.000000e+00   3.230000e+00     -7.396551e+01   \nmax    2.000000e+00     9.000000e+00   8.000010e+06     -6.932915e+01   \n\n       pickup_latitude    RatecodeID  dropoff_longitude  dropoff_latitude  \\\ncount     1.932333e+06  1.932333e+06       1.932333e+06      1.932333e+06   \nmean      4.075072e+01  1.040626e+00      -7.397260e+01      4.075195e+01   \nstd       3.769688e-02  4.119661e-01       1.102399e-01      4.119049e-02   \nmin       2.930932e+01  1.000000e+00      -1.219335e+02      2.930932e+01   \n25%       4.073751e+01  1.000000e+00      -7.399074e+01      4.073604e+01   \n50%       4.075496e+01  1.000000e+00      -7.397918e+01      4.075499e+01   \n75%       4.076904e+01  1.000000e+00      -7.396174e+01      4.077052e+01   \nmax       4.636949e+01  9.900000e+01      -6.815104e+01      4.823333e+01   \n\n       payment_type   fare_amount         extra       mta_tax    tip_amount  \\\ncount  1.932333e+06  1.932333e+06  1.932333e+06  1.932333e+06  1.932333e+06   \nmean   1.402424e+00  1.239599e+01  2.958560e-01  4.977063e-01  1.591805e+00   \nstd    5.057509e-01  1.123502e+01  3.555769e-01  3.620737e-02  2.729033e+00   \nmin    1.000000e+00 -3.000000e+02 -1.000000e+00 -5.000000e-01 -6.200000e+01   \n25%    1.000000e+00  6.000000e+00  0.000000e+00  5.000000e-01  0.000000e+00   \n50%    1.000000e+00  9.000000e+00  0.000000e+00  5.000000e-01  1.000000e+00   \n75%    2.000000e+00  1.350000e+01  5.000000e-01  5.000000e-01  2.080000e+00   \nmax    4.000000e+00  9.989000e+02  3.180000e+01  8.900000e-01  9.981400e+02   \n\n       tolls_amount  improvement_surcharge  total_amount  \ncount  1.932333e+06           1.932333e+06  1.932333e+06  \nmean   3.058418e-01           2.997651e-01  1.538696e+01  \nstd    1.819738e+00           1.153712e-02  1.369422e+01  \nmin   -1.740000e+01          -3.000000e-01 -3.008000e+02  \n25%    0.000000e+00           3.000000e-01  8.160000e+00  \n50%    0.000000e+00           3.000000e-01  1.115000e+01  \n75%    0.000000e+00           3.000000e-01  1.656000e+01  \nmax    9.235800e+02           3.000000e-01  1.298950e+03  ",
      "text/html": "<div>\n<style scoped>\n    .dataframe tbody tr th:only-of-type {\n        vertical-align: middle;\n    }\n\n    .dataframe tbody tr th {\n        vertical-align: top;\n    }\n\n    .dataframe thead th {\n        text-align: right;\n    }\n</style>\n<table border=\"1\" class=\"dataframe\">\n  <thead>\n    <tr style=\"text-align: right;\">\n      <th></th>\n      <th>VendorID</th>\n      <th>passenger_count</th>\n      <th>trip_distance</th>\n      <th>pickup_longitude</th>\n      <th>pickup_latitude</th>\n      <th>RatecodeID</th>\n      <th>dropoff_longitude</th>\n      <th>dropoff_latitude</th>\n      <th>payment_type</th>\n      <th>fare_amount</th>\n      <th>extra</th>\n      <th>mta_tax</th>\n      <th>tip_amount</th>\n      <th>tolls_amount</th>\n      <th>improvement_surcharge</th>\n      <th>total_amount</th>\n    </tr>\n  </thead>\n  <tbody>\n    <tr>\n      <th>count</th>\n      <td>1.932333e+06</td>\n      <td>1.932333e+06</td>\n      <td>1.932333e+06</td>\n      <td>1.932333e+06</td>\n      <td>1.932333e+06</td>\n      <td>1.932333e+06</td>\n      <td>1.932333e+06</td>\n      <td>1.932333e+06</td>\n      <td>1.932333e+06</td>\n      <td>1.932333e+06</td>\n      <td>1.932333e+06</td>\n      <td>1.932333e+06</td>\n      <td>1.932333e+06</td>\n      <td>1.932333e+06</td>\n      <td>1.932333e+06</td>\n      <td>1.932333e+06</td>\n    </tr>\n    <tr>\n      <th>mean</th>\n      <td>1.542892e+00</td>\n      <td>1.708353e+00</td>\n      <td>8.399888e+00</td>\n      <td>-7.397106e+01</td>\n      <td>4.075072e+01</td>\n      <td>1.040626e+00</td>\n      <td>-7.397260e+01</td>\n      <td>4.075195e+01</td>\n      <td>1.402424e+00</td>\n      <td>1.239599e+01</td>\n      <td>2.958560e-01</td>\n      <td>4.977063e-01</td>\n      <td>1.591805e+00</td>\n      <td>3.058418e-01</td>\n      <td>2.997651e-01</td>\n      <td>1.538696e+01</td>\n    </tr>\n    <tr>\n      <th>std</th>\n      <td>4.981570e-01</td>\n      <td>1.337447e+00</td>\n      <td>5.864120e+03</td>\n      <td>1.067420e-01</td>\n      <td>3.769688e-02</td>\n      <td>4.119661e-01</td>\n      <td>1.102399e-01</td>\n      <td>4.119049e-02</td>\n      <td>5.057509e-01</td>\n      <td>1.123502e+01</td>\n      <td>3.555769e-01</td>\n      <td>3.620737e-02</td>\n      <td>2.729033e+00</td>\n      <td>1.819738e+00</td>\n      <td>1.153712e-02</td>\n      <td>1.369422e+01</td>\n    </tr>\n    <tr>\n      <th>min</th>\n      <td>1.000000e+00</td>\n      <td>0.000000e+00</td>\n      <td>0.000000e+00</td>\n      <td>-1.219343e+02</td>\n      <td>2.930932e+01</td>\n      <td>1.000000e+00</td>\n      <td>-1.219335e+02</td>\n      <td>2.930932e+01</td>\n      <td>1.000000e+00</td>\n      <td>-3.000000e+02</td>\n      <td>-1.000000e+00</td>\n      <td>-5.000000e-01</td>\n      <td>-6.200000e+01</td>\n      <td>-1.740000e+01</td>\n      <td>-3.000000e-01</td>\n      <td>-3.008000e+02</td>\n    </tr>\n    <tr>\n      <th>25%</th>\n      <td>1.000000e+00</td>\n      <td>1.000000e+00</td>\n      <td>1.000000e+00</td>\n      <td>-7.399119e+01</td>\n      <td>4.073751e+01</td>\n      <td>1.000000e+00</td>\n      <td>-7.399074e+01</td>\n      <td>4.073604e+01</td>\n      <td>1.000000e+00</td>\n      <td>6.000000e+00</td>\n      <td>0.000000e+00</td>\n      <td>5.000000e-01</td>\n      <td>0.000000e+00</td>\n      <td>0.000000e+00</td>\n      <td>3.000000e-01</td>\n      <td>8.160000e+00</td>\n    </tr>\n    <tr>\n      <th>50%</th>\n      <td>2.000000e+00</td>\n      <td>1.000000e+00</td>\n      <td>1.700000e+00</td>\n      <td>-7.398102e+01</td>\n      <td>4.075496e+01</td>\n      <td>1.000000e+00</td>\n      <td>-7.397918e+01</td>\n      <td>4.075499e+01</td>\n      <td>1.000000e+00</td>\n      <td>9.000000e+00</td>\n      <td>0.000000e+00</td>\n      <td>5.000000e-01</td>\n      <td>1.000000e+00</td>\n      <td>0.000000e+00</td>\n      <td>3.000000e-01</td>\n      <td>1.115000e+01</td>\n    </tr>\n    <tr>\n      <th>75%</th>\n      <td>2.000000e+00</td>\n      <td>2.000000e+00</td>\n      <td>3.230000e+00</td>\n      <td>-7.396551e+01</td>\n      <td>4.076904e+01</td>\n      <td>1.000000e+00</td>\n      <td>-7.396174e+01</td>\n      <td>4.077052e+01</td>\n      <td>2.000000e+00</td>\n      <td>1.350000e+01</td>\n      <td>5.000000e-01</td>\n      <td>5.000000e-01</td>\n      <td>2.080000e+00</td>\n      <td>0.000000e+00</td>\n      <td>3.000000e-01</td>\n      <td>1.656000e+01</td>\n    </tr>\n    <tr>\n      <th>max</th>\n      <td>2.000000e+00</td>\n      <td>9.000000e+00</td>\n      <td>8.000010e+06</td>\n      <td>-6.932915e+01</td>\n      <td>4.636949e+01</td>\n      <td>9.900000e+01</td>\n      <td>-6.815104e+01</td>\n      <td>4.823333e+01</td>\n      <td>4.000000e+00</td>\n      <td>9.989000e+02</td>\n      <td>3.180000e+01</td>\n      <td>8.900000e-01</td>\n      <td>9.981400e+02</td>\n      <td>9.235800e+02</td>\n      <td>3.000000e-01</td>\n      <td>1.298950e+03</td>\n    </tr>\n  </tbody>\n</table>\n</div>"
     },
     "execution_count": 12,
     "metadata": {},
     "output_type": "execute_result"
    }
   ],
   "source": [
    "data4.describe()"
   ]
  },
  {
   "cell_type": "markdown",
   "metadata": {},
   "source": [
    "## 批量处理函数"
   ]
  },
  {
   "cell_type": "code",
   "execution_count": 13,
   "metadata": {},
   "outputs": [],
   "source": [
    "# def clean_data_outlier(data,value_name):\n",
    "#     # 异常值\n",
    "#     q1 = data[value_name].quantile(0.25)\n",
    "#     q2 = data[value_name].quantile(0.75)\n",
    "#     iqr = q2 - q1\n",
    "#     upper_limit = q2 + (1.5 * iqr)\n",
    "#     lower_limit = q1 - (1.5 * iqr)\n",
    "#     # find the outlier\n",
    "#     outlier = data.loc[(data[value_name] > upper_limit) | (data[value_name] < lower_limit)]\n",
    "#     # trimming -delete the outlier data\n",
    "#     new_data = data.loc[(data[value_name] < upper_limit) & (data[value_name] > lower_limit)]\n",
    "#     print(\"new data is\", len(new_data))\n",
    "#     print(\"old data is\", len(data))\n",
    "#     print(\"outlier:\", len(outlier))\n",
    "#     return new_data"
   ]
  },
  {
   "cell_type": "markdown",
   "metadata": {},
   "source": [
    "### 箱型图处理数据"
   ]
  },
  {
   "cell_type": "code",
   "execution_count": 14,
   "metadata": {},
   "outputs": [],
   "source": [
    "# print(\"接单地经度处理：\\n\")\n",
    "# data5 = clean_data_outlier(data4,'pickup_longitude')\n",
    "# print(\"接单地纬度处理：\\n\")\n",
    "# data6 = clean_data_outlier(data5,'pickup_latitude')\n",
    "# print(\"目的地经度:\\n\")\n",
    "# data7 = clean_data_outlier(data6,'dropoff_longitude')\n",
    "# print(\"目的地纬度:\\n\")\n",
    "# data8 = clean_data_outlier(data7,'dropoff_latitude')"
   ]
  },
  {
   "cell_type": "markdown",
   "metadata": {},
   "source": [
    "## 接单经度处理2"
   ]
  },
  {
   "cell_type": "code",
   "execution_count": 15,
   "metadata": {},
   "outputs": [
    {
     "name": "stdout",
     "output_type": "stream",
     "text": [
      "upper limit is: -73.92698669433594\n",
      "lower limit is: -74.02970886230469\n"
     ]
    }
   ],
   "source": [
    "# 接单经度处理2\n",
    "q1 = data4['pickup_longitude'].quantile(0.25)\n",
    "q2 = data4['pickup_longitude'].quantile(0.75)\n",
    "iqr = q2 - q1\n",
    "upper_limit = q2 + (1.5 * iqr)\n",
    "lower_limit = q1 - (1.5 * iqr)\n",
    "print(\"upper limit is:\",upper_limit)\n",
    "print(\"lower limit is:\",lower_limit)"
   ]
  },
  {
   "cell_type": "code",
   "execution_count": 16,
   "metadata": {},
   "outputs": [
    {
     "data": {
      "text/plain": "<AxesSubplot:>"
     },
     "execution_count": 16,
     "metadata": {},
     "output_type": "execute_result"
    },
    {
     "data": {
      "text/plain": "<Figure size 640x480 with 1 Axes>",
      "image/png": "[encoded data removed]"
     },
     "metadata": {},
     "output_type": "display_data"
    }
   ],
   "source": [
    "# 初始箱型图\n",
    "sns.boxplot(data4['pickup_longitude'].tolist())"
   ]
  },
  {
   "cell_type": "code",
   "execution_count": 17,
   "metadata": {},
   "outputs": [
    {
     "name": "stdout",
     "output_type": "stream",
     "text": [
      "new data is 1798510\n",
      "old data is 1932333\n",
      "outlier: 133816\n"
     ]
    }
   ],
   "source": [
    "# 删除异常值\n",
    "outlier = data4.loc[(data4['pickup_longitude'] > upper_limit) | (data4['pickup_longitude'] < lower_limit)]\n",
    "# trimming -delete the outlier data\n",
    "data5 = data4.loc[(data4['pickup_longitude'] < upper_limit) & (data4['pickup_longitude'] > lower_limit)]\n",
    "print(\"new data is\", len(data5))\n",
    "print(\"old data is\", len(data4))\n",
    "print(\"outlier:\", len(outlier))"
   ]
  },
  {
   "cell_type": "code",
   "execution_count": 18,
   "metadata": {},
   "outputs": [
    {
     "data": {
      "text/plain": "<AxesSubplot:>"
     },
     "execution_count": 18,
     "metadata": {},
     "output_type": "execute_result"
    },
    {
     "data": {
      "text/plain": "<Figure size 640x480 with 1 Axes>",
      "image/png": "[encoded data removed]"
     },
     "metadata": {},
     "output_type": "display_data"
    }
   ],
   "source": [
    "# 删除异常值之后的箱型图\n",
    "sns.boxplot(data5['pickup_longitude'].tolist())"
   ]
  },
  {
   "cell_type": "code",
   "execution_count": 19,
   "metadata": {},
   "outputs": [
    {
     "name": "stdout",
     "output_type": "stream",
     "text": [
      "upper limit is: 40.81201934814453\n",
      "lower limit is: 40.695045471191406\n"
     ]
    }
   ],
   "source": [
    "# 接单纬度处理2\n",
    "q3 = data5['pickup_latitude'].quantile(0.25)\n",
    "q4 = data5['pickup_latitude'].quantile(0.75)\n",
    "iqr = q4 - q3\n",
    "upper_limit = q4 + (1.5 * iqr)\n",
    "lower_limit = q3 - (1.5 * iqr)\n",
    "print(\"upper limit is:\",upper_limit)\n",
    "print(\"lower limit is:\",lower_limit)"
   ]
  },
  {
   "cell_type": "code",
   "execution_count": 20,
   "metadata": {},
   "outputs": [
    {
     "data": {
      "text/plain": "<AxesSubplot:>"
     },
     "execution_count": 20,
     "metadata": {},
     "output_type": "execute_result"
    },
    {
     "data": {
      "text/plain": "<Figure size 640x480 with 1 Axes>",
      "image/png": "[encoded data removed]"
     },
     "metadata": {},
     "output_type": "display_data"
    }
   ],
   "source": [
    "# 初始箱型图\n",
    "sns.boxplot(data5['pickup_latitude'].tolist())"
   ]
  },
  {
   "cell_type": "code",
   "execution_count": 21,
   "metadata": {},
   "outputs": [
    {
     "name": "stdout",
     "output_type": "stream",
     "text": [
      "new data is 1766482\n",
      "old data is 1798510\n",
      "outlier: 32013\n"
     ]
    }
   ],
   "source": [
    "# 删除异常值\n",
    "outlier = data5.loc[(data5['pickup_latitude'] > upper_limit) | (data5['pickup_latitude'] < lower_limit)]\n",
    "# trimming -delete the outlier data\n",
    "data6 = data5.loc[(data5['pickup_latitude'] < upper_limit) & (data5['pickup_latitude'] > lower_limit)]\n",
    "print(\"new data is\", len(data6))\n",
    "print(\"old data is\", len(data5))\n",
    "print(\"outlier:\", len(outlier))"
   ]
  },
  {
   "cell_type": "code",
   "execution_count": 22,
   "metadata": {},
   "outputs": [
    {
     "data": {
      "text/plain": "<AxesSubplot:>"
     },
     "execution_count": 22,
     "metadata": {},
     "output_type": "execute_result"
    },
    {
     "data": {
      "text/plain": "<Figure size 640x480 with 1 Axes>",
      "image/png": "[encoded data removed]"
     },
     "metadata": {},
     "output_type": "display_data"
    }
   ],
   "source": [
    "# 删除异常值之后的箱型图\n",
    "sns.boxplot(data6['pickup_latitude'].tolist())"
   ]
  },
  {
   "cell_type": "markdown",
   "metadata": {},
   "source": [
    "## 目的地经度处理2"
   ]
  },
  {
   "cell_type": "code",
   "execution_count": 23,
   "metadata": {},
   "outputs": [
    {
     "name": "stdout",
     "output_type": "stream",
     "text": [
      "upper limit is: -73.92342376708984\n",
      "lower limit is: -74.0316390991211\n"
     ]
    }
   ],
   "source": [
    "q5 = data6['dropoff_longitude'].quantile(0.25)\n",
    "q6 = data6['dropoff_longitude'].quantile(0.75)\n",
    "iqr = q6 - q5\n",
    "upper_limit = q6 + (1.5 * iqr)\n",
    "lower_limit = q5 - (1.5 * iqr)\n",
    "print(\"upper limit is:\",upper_limit)\n",
    "print(\"lower limit is:\",lower_limit)"
   ]
  },
  {
   "cell_type": "markdown",
   "metadata": {},
   "source": [
    "初始化箱型图"
   ]
  },
  {
   "cell_type": "code",
   "execution_count": 24,
   "metadata": {},
   "outputs": [
    {
     "data": {
      "text/plain": "<AxesSubplot:>"
     },
     "execution_count": 24,
     "metadata": {},
     "output_type": "execute_result"
    },
    {
     "data": {
      "text/plain": "<Figure size 640x480 with 1 Axes>",
      "image/png": "[encoded data removed]"
     },
     "metadata": {},
     "output_type": "display_data"
    }
   ],
   "source": [
    "sns.boxplot(data6['dropoff_longitude'].tolist())"
   ]
  },
  {
   "cell_type": "markdown",
   "metadata": {},
   "source": [
    "删除异常值"
   ]
  },
  {
   "cell_type": "code",
   "execution_count": 25,
   "metadata": {},
   "outputs": [
    {
     "name": "stdout",
     "output_type": "stream",
     "text": [
      "new data is 1691195\n",
      "old data is 1766482\n",
      "outlier: 75277\n"
     ]
    }
   ],
   "source": [
    "outlier = data6.loc[(data6['dropoff_longitude'] > upper_limit) | (data6['dropoff_longitude'] < lower_limit)]\n",
    "# trimming -delete the outlier data\n",
    "data7 = data6.loc[(data6['dropoff_longitude'] < upper_limit) & (data6['dropoff_longitude'] > lower_limit)]\n",
    "print(\"new data is\", len(data7))\n",
    "print(\"old data is\", len(data6))\n",
    "print(\"outlier:\", len(outlier))"
   ]
  },
  {
   "cell_type": "markdown",
   "metadata": {},
   "source": [
    "删除异常值之后的箱型图"
   ]
  },
  {
   "cell_type": "code",
   "execution_count": 26,
   "metadata": {},
   "outputs": [
    {
     "data": {
      "text/plain": "<AxesSubplot:>"
     },
     "execution_count": 26,
     "metadata": {},
     "output_type": "execute_result"
    },
    {
     "data": {
      "text/plain": "<Figure size 640x480 with 1 Axes>",
      "image/png": "[encoded data removed]"
     },
     "metadata": {},
     "output_type": "display_data"
    }
   ],
   "source": [
    "sns.boxplot(data7['dropoff_longitude'].tolist())"
   ]
  },
  {
   "cell_type": "markdown",
   "metadata": {},
   "source": [
    "### 目的地纬度处理2"
   ]
  },
  {
   "cell_type": "code",
   "execution_count": 27,
   "metadata": {},
   "outputs": [
    {
     "name": "stdout",
     "output_type": "stream",
     "text": [
      "upper limit is: 40.81993103027342\n",
      "lower limit is: 40.68846130371095\n"
     ]
    }
   ],
   "source": [
    "q7 = data6['dropoff_latitude'].quantile(0.25)\n",
    "q8 = data6['dropoff_latitude'].quantile(0.75)\n",
    "iqr = q8 - q7\n",
    "upper_limit = q8 + (1.5 * iqr)\n",
    "lower_limit = q7 - (1.5 * iqr)\n",
    "print(\"upper limit is:\",upper_limit)\n",
    "print(\"lower limit is:\",lower_limit)"
   ]
  },
  {
   "cell_type": "markdown",
   "metadata": {},
   "source": [
    "初始化箱型图"
   ]
  },
  {
   "cell_type": "code",
   "execution_count": 28,
   "metadata": {},
   "outputs": [
    {
     "data": {
      "text/plain": "<AxesSubplot:>"
     },
     "execution_count": 28,
     "metadata": {},
     "output_type": "execute_result"
    },
    {
     "data": {
      "text/plain": "<Figure size 640x480 with 1 Axes>",
      "image/png": "[encoded data removed]"
     },
     "metadata": {},
     "output_type": "display_data"
    }
   ],
   "source": [
    "sns.boxplot(data7['dropoff_latitude'].tolist())"
   ]
  },
  {
   "cell_type": "markdown",
   "metadata": {},
   "source": [
    "删除异常值"
   ]
  },
  {
   "cell_type": "code",
   "execution_count": 29,
   "metadata": {},
   "outputs": [
    {
     "name": "stdout",
     "output_type": "stream",
     "text": [
      "new data is 1645444\n",
      "old data is 1691195\n",
      "outlier: 45751\n"
     ]
    }
   ],
   "source": [
    "outlier = data7.loc[(data7['dropoff_latitude'] > upper_limit) | (data7['dropoff_latitude'] < lower_limit)]\n",
    "# trimming -delete the outlier data\n",
    "data8 = data7.loc[(data7['dropoff_latitude'] < upper_limit) & (data7['dropoff_latitude'] > lower_limit)]\n",
    "print(\"new data is\", len(data8))\n",
    "print(\"old data is\", len(data7))\n",
    "print(\"outlier:\", len(outlier))"
   ]
  },
  {
   "cell_type": "markdown",
   "metadata": {},
   "source": [
    "删除异常值之后的箱型图"
   ]
  },
  {
   "cell_type": "code",
   "execution_count": 30,
   "metadata": {},
   "outputs": [
    {
     "data": {
      "text/plain": "<AxesSubplot:>"
     },
     "execution_count": 30,
     "metadata": {},
     "output_type": "execute_result"
    },
    {
     "data": {
      "text/plain": "<Figure size 640x480 with 1 Axes>",
      "image/png": "[encoded data removed]"
     },
     "metadata": {},
     "output_type": "display_data"
    }
   ],
   "source": [
    "sns.boxplot(data8['dropoff_latitude'].tolist())"
   ]
  },
  {
   "cell_type": "code",
   "execution_count": 31,
   "metadata": {},
   "outputs": [],
   "source": [
    "data_clean_lon_lat = data8"
   ]
  },
  {
   "cell_type": "markdown",
   "metadata": {},
   "source": [
    "### 乘客数据清理"
   ]
  },
  {
   "cell_type": "code",
   "execution_count": 32,
   "metadata": {},
   "outputs": [
    {
     "name": "stdout",
     "output_type": "stream",
     "text": [
      "upper limit is: 6.0\n",
      "lower limit is: 1.0\n",
      "new data is 1645379\n",
      "old data is 1645444\n",
      "outlier: 65\n"
     ]
    },
    {
     "data": {
      "text/plain": "<AxesSubplot:>"
     },
     "execution_count": 32,
     "metadata": {},
     "output_type": "execute_result"
    },
    {
     "data": {
      "text/plain": "<Figure size 640x480 with 2 Axes>",
      "image/png": "[encoded data removed]"
     },
     "metadata": {},
     "output_type": "display_data"
    }
   ],
   "source": [
    "pic = plt.figure()\n",
    "\n",
    "# q1 = data_clean_lon_lat['passenger_count'].quantile(0.25)\n",
    "# q2 = data_clean_lon_lat['passenger_count'].quantile(0.75)\n",
    "# iqr = q2 - q1\n",
    "# upper_limit = q2 + (1.5 * iqr)\n",
    "# lower_limit = q1 - (1.5 * iqr)\n",
    "\n",
    "upper_limit = data_clean_lon_lat['passenger_count'].quantile(0.99)\n",
    "lower_limit = data_clean_lon_lat['passenger_count'].quantile(0.01)\n",
    "print(\"upper limit is:\",upper_limit)\n",
    "print(\"lower limit is:\",lower_limit)\n",
    "# 初始化箱型图\n",
    "pic.add_subplot(2,1,1)\n",
    "sns.boxplot(data_clean_lon_lat['passenger_count'].tolist())\n",
    "# 删除异常值\n",
    "outlier = data_clean_lon_lat.loc[(data_clean_lon_lat['passenger_count'] > upper_limit) | (data_clean_lon_lat['passenger_count'] < lower_limit)]\n",
    "# trimming -delete the outlier data\n",
    "data_passenger = data_clean_lon_lat.loc[(data_clean_lon_lat['passenger_count'] <= upper_limit) & (data_clean_lon_lat['passenger_count'] >= lower_limit)]\n",
    "print(\"new data is\", len(data_passenger))\n",
    "print(\"old data is\", len(data_clean_lon_lat))\n",
    "print(\"outlier:\", len(outlier))\n",
    "# 删除异常值之后的箱型图\n",
    "pic.add_subplot(2,1,2)\n",
    "sns.boxplot(data_passenger['passenger_count'].tolist())"
   ]
  },
  {
   "cell_type": "code",
   "execution_count": 33,
   "metadata": {},
   "outputs": [
    {
     "data": {
      "text/plain": "           VendorID  passenger_count  trip_distance  pickup_longitude  \\\ncount  1.645379e+06     1.645379e+06   1.645379e+06      1.645379e+06   \nmean   1.540753e+00     1.702202e+00   3.337376e+00     -7.398092e+01   \nstd    4.983366e-01     1.335015e+00   1.219948e+03      1.632623e-02   \nmin    1.000000e+00     1.000000e+00   0.000000e+00     -7.402958e+01   \n25%    1.000000e+00     1.000000e+00   9.200000e-01     -7.399180e+01   \n50%    2.000000e+00     1.000000e+00   1.500000e+00     -7.398220e+01   \n75%    2.000000e+00     2.000000e+00   2.460000e+00     -7.397036e+01   \nmax    2.000000e+00     6.000000e+00   1.403240e+06     -7.392699e+01   \n\n       pickup_latitude    RatecodeID  dropoff_longitude  dropoff_latitude  \\\ncount     1.645379e+06  1.645379e+06       1.645379e+06      1.645379e+06   \nmean      4.075394e+01  1.006077e+00      -7.397948e+01      4.075430e+01   \nstd       2.119618e-02  2.866865e-01       1.759379e-02      2.331753e-02   \nmin       4.069505e+01  1.000000e+00      -7.403161e+01      4.068847e+01   \n25%       4.073976e+01  1.000000e+00      -7.399141e+01      4.073930e+01   \n50%       4.075528e+01  1.000000e+00      -7.398101e+01      4.075565e+01   \n75%       4.076822e+01  1.000000e+00      -7.396798e+01      4.076997e+01   \nmax       4.081202e+01  9.900000e+01      -7.392343e+01      4.081993e+01   \n\n       payment_type   fare_amount         extra       mta_tax    tip_amount  \\\ncount  1.645379e+06  1.645379e+06  1.645379e+06  1.645379e+06  1.645379e+06   \nmean   1.402457e+00  9.315919e+00  2.988550e-01  4.991543e-01  1.201874e+00   \nstd    5.035243e-01  5.361455e+00  3.617027e-01  2.419967e-02  1.759150e+00   \nmin    1.000000e+00 -3.000000e+02 -1.000000e+00 -5.000000e-01 -6.200000e+01   \n25%    1.000000e+00  6.000000e+00  0.000000e+00  5.000000e-01  0.000000e+00   \n50%    1.000000e+00  8.000000e+00  0.000000e+00  5.000000e-01  1.000000e+00   \n75%    2.000000e+00  1.150000e+01  5.000000e-01  5.000000e-01  2.000000e+00   \nmax    4.000000e+00  9.980000e+02  3.180000e+01  5.000000e-01  9.981400e+02   \n\n       tolls_amount  improvement_surcharge  total_amount  \ncount  1.645379e+06           1.645379e+06  1.645379e+06  \nmean   1.463525e-02           2.997821e-01  1.163022e+01  \nstd    3.323841e-01           1.120205e-02  6.216061e+00  \nmin   -1.740000e+01          -3.000000e-01 -3.008000e+02  \n25%    0.000000e+00           3.000000e-01  7.800000e+00  \n50%    0.000000e+00           3.000000e-01  1.030000e+01  \n75%    0.000000e+00           3.000000e-01  1.400000e+01  \nmax    8.554000e+01           3.000000e-01  1.004940e+03  ",
      "text/html": "<div>\n<style scoped>\n    .dataframe tbody tr th:only-of-type {\n        vertical-align: middle;\n    }\n\n    .dataframe tbody tr th {\n        vertical-align: top;\n    }\n\n    .dataframe thead th {\n        text-align: right;\n    }\n</style>\n<table border=\"1\" class=\"dataframe\">\n  <thead>\n    <tr style=\"text-align: right;\">\n      <th></th>\n      <th>VendorID</th>\n      <th>passenger_count</th>\n      <th>trip_distance</th>\n      <th>pickup_longitude</th>\n      <th>pickup_latitude</th>\n      <th>RatecodeID</th>\n      <th>dropoff_longitude</th>\n      <th>dropoff_latitude</th>\n      <th>payment_type</th>\n      <th>fare_amount</th>\n      <th>extra</th>\n      <th>mta_tax</th>\n      <th>tip_amount</th>\n      <th>tolls_amount</th>\n      <th>improvement_surcharge</th>\n      <th>total_amount</th>\n    </tr>\n  </thead>\n  <tbody>\n    <tr>\n      <th>count</th>\n      <td>1.645379e+06</td>\n      <td>1.645379e+06</td>\n      <td>1.645379e+06</td>\n      <td>1.645379e+06</td>\n      <td>1.645379e+06</td>\n      <td>1.645379e+06</td>\n      <td>1.645379e+06</td>\n      <td>1.645379e+06</td>\n      <td>1.645379e+06</td>\n      <td>1.645379e+06</td>\n      <td>1.645379e+06</td>\n      <td>1.645379e+06</td>\n      <td>1.645379e+06</td>\n      <td>1.645379e+06</td>\n      <td>1.645379e+06</td>\n      <td>1.645379e+06</td>\n    </tr>\n    <tr>\n      <th>mean</th>\n      <td>1.540753e+00</td>\n      <td>1.702202e+00</td>\n      <td>3.337376e+00</td>\n      <td>-7.398092e+01</td>\n      <td>4.075394e+01</td>\n      <td>1.006077e+00</td>\n      <td>-7.397948e+01</td>\n      <td>4.075430e+01</td>\n      <td>1.402457e+00</td>\n      <td>9.315919e+00</td>\n      <td>2.988550e-01</td>\n      <td>4.991543e-01</td>\n      <td>1.201874e+00</td>\n      <td>1.463525e-02</td>\n      <td>2.997821e-01</td>\n      <td>1.163022e+01</td>\n    </tr>\n    <tr>\n      <th>std</th>\n      <td>4.983366e-01</td>\n      <td>1.335015e+00</td>\n      <td>1.219948e+03</td>\n      <td>1.632623e-02</td>\n      <td>2.119618e-02</td>\n      <td>2.866865e-01</td>\n      <td>1.759379e-02</td>\n      <td>2.331753e-02</td>\n      <td>5.035243e-01</td>\n      <td>5.361455e+00</td>\n      <td>3.617027e-01</td>\n      <td>2.419967e-02</td>\n      <td>1.759150e+00</td>\n      <td>3.323841e-01</td>\n      <td>1.120205e-02</td>\n      <td>6.216061e+00</td>\n    </tr>\n    <tr>\n      <th>min</th>\n      <td>1.000000e+00</td>\n      <td>1.000000e+00</td>\n      <td>0.000000e+00</td>\n      <td>-7.402958e+01</td>\n      <td>4.069505e+01</td>\n      <td>1.000000e+00</td>\n      <td>-7.403161e+01</td>\n      <td>4.068847e+01</td>\n      <td>1.000000e+00</td>\n      <td>-3.000000e+02</td>\n      <td>-1.000000e+00</td>\n      <td>-5.000000e-01</td>\n      <td>-6.200000e+01</td>\n      <td>-1.740000e+01</td>\n      <td>-3.000000e-01</td>\n      <td>-3.008000e+02</td>\n    </tr>\n    <tr>\n      <th>25%</th>\n      <td>1.000000e+00</td>\n      <td>1.000000e+00</td>\n      <td>9.200000e-01</td>\n      <td>-7.399180e+01</td>\n      <td>4.073976e+01</td>\n      <td>1.000000e+00</td>\n      <td>-7.399141e+01</td>\n      <td>4.073930e+01</td>\n      <td>1.000000e+00</td>\n      <td>6.000000e+00</td>\n      <td>0.000000e+00</td>\n      <td>5.000000e-01</td>\n      <td>0.000000e+00</td>\n      <td>0.000000e+00</td>\n      <td>3.000000e-01</td>\n      <td>7.800000e+00</td>\n    </tr>\n    <tr>\n      <th>50%</th>\n      <td>2.000000e+00</td>\n      <td>1.000000e+00</td>\n      <td>1.500000e+00</td>\n      <td>-7.398220e+01</td>\n      <td>4.075528e+01</td>\n      <td>1.000000e+00</td>\n      <td>-7.398101e+01</td>\n      <td>4.075565e+01</td>\n      <td>1.000000e+00</td>\n      <td>8.000000e+00</td>\n      <td>0.000000e+00</td>\n      <td>5.000000e-01</td>\n      <td>1.000000e+00</td>\n      <td>0.000000e+00</td>\n      <td>3.000000e-01</td>\n      <td>1.030000e+01</td>\n    </tr>\n    <tr>\n      <th>75%</th>\n      <td>2.000000e+00</td>\n      <td>2.000000e+00</td>\n      <td>2.460000e+00</td>\n      <td>-7.397036e+01</td>\n      <td>4.076822e+01</td>\n      <td>1.000000e+00</td>\n      <td>-7.396798e+01</td>\n      <td>4.076997e+01</td>\n      <td>2.000000e+00</td>\n      <td>1.150000e+01</td>\n      <td>5.000000e-01</td>\n      <td>5.000000e-01</td>\n      <td>2.000000e+00</td>\n      <td>0.000000e+00</td>\n      <td>3.000000e-01</td>\n      <td>1.400000e+01</td>\n    </tr>\n    <tr>\n      <th>max</th>\n      <td>2.000000e+00</td>\n      <td>6.000000e+00</td>\n      <td>1.403240e+06</td>\n      <td>-7.392699e+01</td>\n      <td>4.081202e+01</td>\n      <td>9.900000e+01</td>\n      <td>-7.392343e+01</td>\n      <td>4.081993e+01</td>\n      <td>4.000000e+00</td>\n      <td>9.980000e+02</td>\n      <td>3.180000e+01</td>\n      <td>5.000000e-01</td>\n      <td>9.981400e+02</td>\n      <td>8.554000e+01</td>\n      <td>3.000000e-01</td>\n      <td>1.004940e+03</td>\n    </tr>\n  </tbody>\n</table>\n</div>"
     },
     "execution_count": 33,
     "metadata": {},
     "output_type": "execute_result"
    }
   ],
   "source": [
    "data_passenger.describe()"
   ]
  },
  {
   "cell_type": "markdown",
   "metadata": {},
   "source": [
    "### 里程数据清理"
   ]
  },
  {
   "cell_type": "code",
   "execution_count": 34,
   "metadata": {},
   "outputs": [
    {
     "name": "stdout",
     "output_type": "stream",
     "text": [
      "upper limit is: 7.1\n",
      "lower limit is: 0.25\n",
      "new data is 1612941\n",
      "old data is 1645379\n",
      "outlier: 32438\n"
     ]
    },
    {
     "data": {
      "text/plain": "<AxesSubplot:>"
     },
     "execution_count": 34,
     "metadata": {},
     "output_type": "execute_result"
    },
    {
     "data": {
      "text/plain": "<Figure size 640x480 with 2 Axes>",
      "image/png": "[encoded data removed]"
     },
     "metadata": {},
     "output_type": "display_data"
    }
   ],
   "source": [
    "# data_trip_distance = clean_data_outlier(data_passenger,'trip_distance')\n",
    "pic = plt.figure()\n",
    "\n",
    "upper_limit = data_passenger['trip_distance'].quantile(0.99)\n",
    "lower_limit = data_passenger['trip_distance'].quantile(0.01)\n",
    "print(\"upper limit is:\",upper_limit)\n",
    "print(\"lower limit is:\",lower_limit)\n",
    "# 初始化箱型图\n",
    "pic.add_subplot(2,1,1)\n",
    "sns.boxplot(data_passenger['trip_distance'].tolist())\n",
    "# 删除异常值\n",
    "outlier = data_passenger.loc[(data_passenger['trip_distance'] > upper_limit) | (data_passenger['trip_distance'] < lower_limit)]\n",
    "# trimming -delete the outlier data\n",
    "data_trip_distance = data_passenger.loc[(data_passenger['trip_distance'] <= upper_limit) & (data_passenger['trip_distance'] >= lower_limit)].copy()\n",
    "print(\"new data is\", len(data_trip_distance))\n",
    "print(\"old data is\", len(data_passenger))\n",
    "print(\"outlier:\", len(outlier))\n",
    "# 删除异常值之后的箱型图\n",
    "pic.add_subplot(2,1,2)\n",
    "sns.boxplot(data_trip_distance['trip_distance'].tolist())"
   ]
  },
  {
   "cell_type": "markdown",
   "metadata": {},
   "source": [
    "### 根据经纬度计算距离"
   ]
  },
  {
   "cell_type": "code",
   "execution_count": 35,
   "outputs": [
    {
     "data": {
      "text/plain": "    VendorID tpep_pickup_datetime tpep_dropoff_datetime  passenger_count  \\\n1          2    1/1/2016 00:00:00     1/1/2016 00:00:00                2   \n2          2    1/1/2016 00:00:00     1/1/2016 00:00:00                5   \n5          2    1/1/2016 00:00:00     1/1/2016 00:00:00                3   \n8          1    1/1/2016 00:00:01     1/1/2016 00:11:55                1   \n11         2    1/1/2016 00:00:03     1/1/2016 00:06:19                1   \n\n    trip_distance  pickup_longitude  pickup_latitude  RatecodeID  \\\n1            1.10        -73.990372        40.734695           1   \n2            4.90        -73.980782        40.729912           1   \n5            1.76        -73.960625        40.781330           1   \n8            1.20        -73.979424        40.744614           1   \n11           0.79        -74.006149        40.744919           1   \n\n   store_and_fwd_flag  dropoff_longitude  dropoff_latitude  payment_type  \\\n1                   N         -73.981842         40.732407             2   \n2                   N         -73.944473         40.716679             1   \n5                   N         -73.977264         40.758514             2   \n8                   N         -73.992035         40.753944             2   \n11                  N         -73.993797         40.741440             2   \n\n    fare_amount  extra  mta_tax  tip_amount  tolls_amount  \\\n1           7.5    0.5      0.5         0.0           0.0   \n2          18.0    0.5      0.5         0.0           0.0   \n5           8.0    0.0      0.5         0.0           0.0   \n8           9.0    0.5      0.5         0.0           0.0   \n11          6.0    0.5      0.5         0.0           0.0   \n\n    improvement_surcharge  total_amount  \n1                     0.3           8.8  \n2                     0.3          19.3  \n5                     0.3           8.8  \n8                     0.3          10.3  \n11                    0.3           7.3  ",
      "text/html": "<div>\n<style scoped>\n    .dataframe tbody tr th:only-of-type {\n        vertical-align: middle;\n    }\n\n    .dataframe tbody tr th {\n        vertical-align: top;\n    }\n\n    .dataframe thead th {\n        text-align: right;\n    }\n</style>\n<table border=\"1\" class=\"dataframe\">\n  <thead>\n    <tr style=\"text-align: right;\">\n      <th></th>\n      <th>VendorID</th>\n      <th>tpep_pickup_datetime</th>\n      <th>tpep_dropoff_datetime</th>\n      <th>passenger_count</th>\n      <th>trip_distance</th>\n      <th>pickup_longitude</th>\n      <th>pickup_latitude</th>\n      <th>RatecodeID</th>\n      <th>store_and_fwd_flag</th>\n      <th>dropoff_longitude</th>\n      <th>dropoff_latitude</th>\n      <th>payment_type</th>\n      <th>fare_amount</th>\n      <th>extra</th>\n      <th>mta_tax</th>\n      <th>tip_amount</th>\n      <th>tolls_amount</th>\n      <th>improvement_surcharge</th>\n      <th>total_amount</th>\n    </tr>\n  </thead>\n  <tbody>\n    <tr>\n      <th>1</th>\n      <td>2</td>\n      <td>1/1/2016 00:00:00</td>\n      <td>1/1/2016 00:00:00</td>\n      <td>2</td>\n      <td>1.10</td>\n      <td>-73.990372</td>\n      <td>40.734695</td>\n      <td>1</td>\n      <td>N</td>\n      <td>-73.981842</td>\n      <td>40.732407</td>\n      <td>2</td>\n      <td>7.5</td>\n      <td>0.5</td>\n      <td>0.5</td>\n      <td>0.0</td>\n      <td>0.0</td>\n      <td>0.3</td>\n      <td>8.8</td>\n    </tr>\n    <tr>\n      <th>2</th>\n      <td>2</td>\n      <td>1/1/2016 00:00:00</td>\n      <td>1/1/2016 00:00:00</td>\n      <td>5</td>\n      <td>4.90</td>\n      <td>-73.980782</td>\n      <td>40.729912</td>\n      <td>1</td>\n      <td>N</td>\n      <td>-73.944473</td>\n      <td>40.716679</td>\n      <td>1</td>\n      <td>18.0</td>\n      <td>0.5</td>\n      <td>0.5</td>\n      <td>0.0</td>\n      <td>0.0</td>\n      <td>0.3</td>\n      <td>19.3</td>\n    </tr>\n    <tr>\n      <th>5</th>\n      <td>2</td>\n      <td>1/1/2016 00:00:00</td>\n      <td>1/1/2016 00:00:00</td>\n      <td>3</td>\n      <td>1.76</td>\n      <td>-73.960625</td>\n      <td>40.781330</td>\n      <td>1</td>\n      <td>N</td>\n      <td>-73.977264</td>\n      <td>40.758514</td>\n      <td>2</td>\n      <td>8.0</td>\n      <td>0.0</td>\n      <td>0.5</td>\n      <td>0.0</td>\n      <td>0.0</td>\n      <td>0.3</td>\n      <td>8.8</td>\n    </tr>\n    <tr>\n      <th>8</th>\n      <td>1</td>\n      <td>1/1/2016 00:00:01</td>\n      <td>1/1/2016 00:11:55</td>\n      <td>1</td>\n      <td>1.20</td>\n      <td>-73.979424</td>\n      <td>40.744614</td>\n      <td>1</td>\n      <td>N</td>\n      <td>-73.992035</td>\n      <td>40.753944</td>\n      <td>2</td>\n      <td>9.0</td>\n      <td>0.5</td>\n      <td>0.5</td>\n      <td>0.0</td>\n      <td>0.0</td>\n      <td>0.3</td>\n      <td>10.3</td>\n    </tr>\n    <tr>\n      <th>11</th>\n      <td>2</td>\n      <td>1/1/2016 00:00:03</td>\n      <td>1/1/2016 00:06:19</td>\n      <td>1</td>\n      <td>0.79</td>\n      <td>-74.006149</td>\n      <td>40.744919</td>\n      <td>1</td>\n      <td>N</td>\n      <td>-73.993797</td>\n      <td>40.741440</td>\n      <td>2</td>\n      <td>6.0</td>\n      <td>0.5</td>\n      <td>0.5</td>\n      <td>0.0</td>\n      <td>0.0</td>\n      <td>0.3</td>\n      <td>7.3</td>\n    </tr>\n  </tbody>\n</table>\n</div>"
     },
     "execution_count": 35,
     "metadata": {},
     "output_type": "execute_result"
    }
   ],
   "source": [
    "data_trip_distance.head()"
   ],
   "metadata": {
    "collapsed": false
   }
  },
  {
   "cell_type": "code",
   "execution_count": 36,
   "outputs": [],
   "source": [
    "# lon = data_trip_distance['pickup_longitude'].to_numpy()\n",
    "# lat = data_trip_distance['pickup_latitude'].to_numpy()\n",
    "# lon_dropoff = data_trip_distance['dropoff_longitude'].to_numpy()\n",
    "# lat_dropoff = data_trip_distance['dropoff_latitude'].to_numpy()\n",
    "#\n",
    "# distance = haversine(lon[:, None], lat[:, None], lon_dropoff[:, None], lat_dropoff[:, None])\n",
    "# len(distance)"
   ],
   "metadata": {
    "collapsed": false
   }
  },
  {
   "cell_type": "code",
   "execution_count": 37,
   "metadata": {},
   "outputs": [
    {
     "name": "stdout",
     "output_type": "stream",
     "text": [
      "初始经纬度坐标:\n",
      " (-73.99037170410156, 40.73469543457031)\n",
      "目的地经纬度坐标:\n",
      " (-73.98184204101562, 40.73240661621094)\n"
     ]
    }
   ],
   "source": [
    "lon = np.array(list(data_trip_distance['pickup_longitude']))\n",
    "lat = np.array(list(data_trip_distance['pickup_latitude']))\n",
    "\n",
    "pickup_lon_lat = list(zip(lon,lat))\n",
    "\n",
    "lon_dropoff = np.array(list(data_trip_distance['dropoff_longitude']))\n",
    "lat_dropoff = np.array((list(data_trip_distance['dropoff_latitude'])))\n",
    "\n",
    "dropoff_lon_lat = list(zip(lon_dropoff,lat_dropoff))\n",
    "\n",
    "print(\"初始经纬度坐标:\\n\",pickup_lon_lat[0])\n",
    "print(\"目的地经纬度坐标:\\n\",dropoff_lon_lat[0])"
   ]
  },
  {
   "cell_type": "code",
   "execution_count": 38,
   "metadata": {},
   "outputs": [
    {
     "name": "stdout",
     "output_type": "stream",
     "text": [
      "(-73.99037170410156, 40.73469543457031)\n",
      "(-73.98184204101562, 40.73240661621094)\n"
     ]
    },
    {
     "data": {
      "text/plain": "1612941"
     },
     "execution_count": 38,
     "metadata": {},
     "output_type": "execute_result"
    }
   ],
   "source": [
    "print(pickup_lon_lat[0])\n",
    "print(dropoff_lon_lat[0])\n",
    "distance = []\n",
    "for i in range(len(pickup_lon_lat)):\n",
    "    distance.append(haversine(pickup_lon_lat[i],dropoff_lon_lat[i]))\n",
    "len(distance)"
   ]
  },
  {
   "cell_type": "markdown",
   "metadata": {},
   "source": [
    "**把直线距离加入表中**"
   ]
  },
  {
   "cell_type": "code",
   "execution_count": 39,
   "outputs": [
    {
     "data": {
      "text/plain": "[1, 2, 3, 4]"
     },
     "execution_count": 39,
     "metadata": {},
     "output_type": "execute_result"
    }
   ],
   "source": [
    "a = [1,2,3,4]\n",
    "\n",
    "b = a.copy()\n",
    "b"
   ],
   "metadata": {
    "collapsed": false
   }
  },
  {
   "cell_type": "code",
   "execution_count": 40,
   "metadata": {},
   "outputs": [],
   "source": [
    "data_trip_distance['distance'] = distance"
   ]
  },
  {
   "cell_type": "code",
   "execution_count": 41,
   "metadata": {},
   "outputs": [
    {
     "data": {
      "text/plain": "1612941"
     },
     "execution_count": 41,
     "metadata": {},
     "output_type": "execute_result"
    }
   ],
   "source": [
    "len(data_trip_distance)"
   ]
  },
  {
   "cell_type": "markdown",
   "metadata": {},
   "source": [
    "## 经纬度数据处理\n",
    "### 路程大于位移"
   ]
  },
  {
   "cell_type": "code",
   "execution_count": 42,
   "metadata": {},
   "outputs": [],
   "source": [
    "data_trip_distance = data_trip_distance[(data_trip_distance['distance'] <= data_trip_distance['trip_distance'])]"
   ]
  },
  {
   "cell_type": "code",
   "execution_count": 43,
   "metadata": {},
   "outputs": [
    {
     "data": {
      "text/plain": "807417"
     },
     "execution_count": 43,
     "metadata": {},
     "output_type": "execute_result"
    }
   ],
   "source": [
    "len(data_trip_distance)"
   ]
  },
  {
   "cell_type": "markdown",
   "metadata": {},
   "source": [
    "### 总费用的处理\n",
    "### 总费用=fare_amount+extra+mta_tax+tip_amount+tolls_amount+improvement_surcharge"
   ]
  },
  {
   "cell_type": "code",
   "execution_count": 44,
   "metadata": {},
   "outputs": [],
   "source": [
    "data_total_amount_outlier = data_trip_distance.loc[data_trip_distance['total_amount'] != data_trip_distance['fare_amount']+data_trip_distance['extra']+data_trip_distance['mta_tax']+data_trip_distance['tip_amount']+data_trip_distance['tolls_amount']+data_trip_distance['improvement_surcharge']]"
   ]
  },
  {
   "cell_type": "code",
   "execution_count": 45,
   "metadata": {},
   "outputs": [],
   "source": [
    "data_total_amount = data_trip_distance.loc[data_trip_distance['total_amount'] == data_trip_distance['fare_amount']+data_trip_distance['extra']+data_trip_distance['mta_tax']+data_trip_distance['tip_amount']+data_trip_distance['tolls_amount']+data_trip_distance['improvement_surcharge']]"
   ]
  },
  {
   "cell_type": "code",
   "execution_count": 46,
   "metadata": {},
   "outputs": [
    {
     "name": "stdout",
     "output_type": "stream",
     "text": [
      "outlier is  91292\n",
      "olddata is  807417\n",
      "newdata is  716125\n"
     ]
    }
   ],
   "source": [
    "print(\"outlier is \",len(data_total_amount_outlier))\n",
    "print(\"olddata is \",len(data_trip_distance))\n",
    "print(\"newdata is \",len(data_total_amount))"
   ]
  },
  {
   "cell_type": "markdown",
   "metadata": {},
   "source": [
    "### 时间处理"
   ]
  },
  {
   "cell_type": "code",
   "execution_count": 47,
   "metadata": {},
   "outputs": [],
   "source": [
    "import time\n",
    "data_format_time = data_total_amount.copy()"
   ]
  },
  {
   "cell_type": "markdown",
   "metadata": {},
   "source": [
    "### 时间转换"
   ]
  },
  {
   "cell_type": "code",
   "execution_count": 48,
   "metadata": {},
   "outputs": [
    {
     "data": {
      "text/plain": "         VendorID tpep_pickup_datetime tpep_dropoff_datetime  passenger_count  \\\n1               2  2016-01-01 00:00:00   2016-01-01 00:00:00                2   \n2               2  2016-01-01 00:00:00   2016-01-01 00:00:00                5   \n14              1  2016-01-01 00:00:04   2016-01-01 00:14:32                1   \n15              1  2016-01-01 00:00:05   2016-01-01 00:14:27                2   \n17              2  2016-01-01 00:00:05   2016-01-01 00:07:14                1   \n...           ...                  ...                   ...              ...   \n1968670         2  2016-01-06 23:59:55   2016-01-07 00:07:27                1   \n1968671         2  2016-01-06 23:59:57   2016-01-07 00:02:52                5   \n1968677         2  2016-01-06 23:59:59   2016-01-07 00:15:24                1   \n1968680         1  2016-01-05 06:14:25   2016-02-11 15:06:37                1   \n1968682         1  2016-01-05 06:12:46   2016-03-19 20:45:50                3   \n\n         trip_distance  pickup_longitude  pickup_latitude  RatecodeID  \\\n1                 1.10        -73.990372        40.734695           1   \n2                 4.90        -73.980782        40.729912           1   \n14                3.70        -74.004303        40.742241           1   \n15                2.20        -73.991997        40.718578           1   \n17                1.92        -73.973091        40.795361           1   \n...                ...               ...              ...         ...   \n1968670           1.32        -73.959755        40.773647           1   \n1968671           1.18        -73.977211        40.784721           1   \n1968677           3.56        -73.986099        40.727940           1   \n1968680           0.70        -73.965790        40.758984           1   \n1968682           1.40        -73.994240        40.766586           1   \n\n        store_and_fwd_flag  dropoff_longitude  dropoff_latitude  payment_type  \\\n1                        N         -73.981842         40.732407             2   \n2                        N         -73.944473         40.716679             1   \n14                       N         -74.007362         40.706936             1   \n15                       N         -74.005135         40.739944             1   \n17                       N         -73.978371         40.773151             2   \n...                    ...                ...               ...           ...   \n1968670                  N         -73.959846         40.761883             1   \n1968671                  N         -73.968307         40.799080             2   \n1968677                  N         -73.983292         40.764664             1   \n1968680                  N         -73.968575         40.750648             1   \n1968682                  N         -73.984428         40.753922             2   \n\n         fare_amount  extra  mta_tax  tip_amount  tolls_amount  \\\n1                7.5    0.5      0.5        0.00           0.0   \n2               18.0    0.5      0.5        0.00           0.0   \n14              14.0    0.5      0.5        3.05           0.0   \n15              11.0    0.5      0.5        1.50           0.0   \n17               7.5    0.5      0.5        0.00           0.0   \n...              ...    ...      ...         ...           ...   \n1968670          7.5    0.5      0.5        1.76           0.0   \n1968671          5.0    0.5      0.5        0.00           0.0   \n1968677         14.0    0.5      0.5        3.06           0.0   \n1968680          5.0    0.0      0.5        1.16           0.0   \n1968682          7.5    0.5      0.5        0.00           0.0   \n\n         improvement_surcharge  total_amount  distance  \n1                          0.3          8.80  0.951052  \n2                          0.3         19.30  4.057717  \n14                         0.3         18.35  1.133931  \n15                         0.3         13.80  1.600947  \n17                         0.3          8.80  0.899645  \n...                        ...           ...       ...  \n1968670                    0.3         10.56  0.361603  \n1968671                    0.3          6.30  1.083728  \n1968677                    0.3         18.36  1.169079  \n1968680                    0.3          6.96  0.401754  \n1968682                    0.3          8.80  1.158062  \n\n[716125 rows x 20 columns]",
      "text/html": "<div>\n<style scoped>\n    .dataframe tbody tr th:only-of-type {\n        vertical-align: middle;\n    }\n\n    .dataframe tbody tr th {\n        vertical-align: top;\n    }\n\n    .dataframe thead th {\n        text-align: right;\n    }\n</style>\n<table border=\"1\" class=\"dataframe\">\n  <thead>\n    <tr style=\"text-align: right;\">\n      <th></th>\n      <th>VendorID</th>\n      <th>tpep_pickup_datetime</th>\n      <th>tpep_dropoff_datetime</th>\n      <th>passenger_count</th>\n      <th>trip_distance</th>\n      <th>pickup_longitude</th>\n      <th>pickup_latitude</th>\n      <th>RatecodeID</th>\n      <th>store_and_fwd_flag</th>\n      <th>dropoff_longitude</th>\n      <th>dropoff_latitude</th>\n      <th>payment_type</th>\n      <th>fare_amount</th>\n      <th>extra</th>\n      <th>mta_tax</th>\n      <th>tip_amount</th>\n      <th>tolls_amount</th>\n      <th>improvement_surcharge</th>\n      <th>total_amount</th>\n      <th>distance</th>\n    </tr>\n  </thead>\n  <tbody>\n    <tr>\n      <th>1</th>\n      <td>2</td>\n      <td>2016-01-01 00:00:00</td>\n      <td>2016-01-01 00:00:00</td>\n      <td>2</td>\n      <td>1.10</td>\n      <td>-73.990372</td>\n      <td>40.734695</td>\n      <td>1</td>\n      <td>N</td>\n      <td>-73.981842</td>\n      <td>40.732407</td>\n      <td>2</td>\n      <td>7.5</td>\n      <td>0.5</td>\n      <td>0.5</td>\n      <td>0.00</td>\n      <td>0.0</td>\n      <td>0.3</td>\n      <td>8.80</td>\n      <td>0.951052</td>\n    </tr>\n    <tr>\n      <th>2</th>\n      <td>2</td>\n      <td>2016-01-01 00:00:00</td>\n      <td>2016-01-01 00:00:00</td>\n      <td>5</td>\n      <td>4.90</td>\n      <td>-73.980782</td>\n      <td>40.729912</td>\n      <td>1</td>\n      <td>N</td>\n      <td>-73.944473</td>\n      <td>40.716679</td>\n      <td>1</td>\n      <td>18.0</td>\n      <td>0.5</td>\n      <td>0.5</td>\n      <td>0.00</td>\n      <td>0.0</td>\n      <td>0.3</td>\n      <td>19.30</td>\n      <td>4.057717</td>\n    </tr>\n    <tr>\n      <th>14</th>\n      <td>1</td>\n      <td>2016-01-01 00:00:04</td>\n      <td>2016-01-01 00:14:32</td>\n      <td>1</td>\n      <td>3.70</td>\n      <td>-74.004303</td>\n      <td>40.742241</td>\n      <td>1</td>\n      <td>N</td>\n      <td>-74.007362</td>\n      <td>40.706936</td>\n      <td>1</td>\n      <td>14.0</td>\n      <td>0.5</td>\n      <td>0.5</td>\n      <td>3.05</td>\n      <td>0.0</td>\n      <td>0.3</td>\n      <td>18.35</td>\n      <td>1.133931</td>\n    </tr>\n    <tr>\n      <th>15</th>\n      <td>1</td>\n      <td>2016-01-01 00:00:05</td>\n      <td>2016-01-01 00:14:27</td>\n      <td>2</td>\n      <td>2.20</td>\n      <td>-73.991997</td>\n      <td>40.718578</td>\n      <td>1</td>\n      <td>N</td>\n      <td>-74.005135</td>\n      <td>40.739944</td>\n      <td>1</td>\n      <td>11.0</td>\n      <td>0.5</td>\n      <td>0.5</td>\n      <td>1.50</td>\n      <td>0.0</td>\n      <td>0.3</td>\n      <td>13.80</td>\n      <td>1.600947</td>\n    </tr>\n    <tr>\n      <th>17</th>\n      <td>2</td>\n      <td>2016-01-01 00:00:05</td>\n      <td>2016-01-01 00:07:14</td>\n      <td>1</td>\n      <td>1.92</td>\n      <td>-73.973091</td>\n      <td>40.795361</td>\n      <td>1</td>\n      <td>N</td>\n      <td>-73.978371</td>\n      <td>40.773151</td>\n      <td>2</td>\n      <td>7.5</td>\n      <td>0.5</td>\n      <td>0.5</td>\n      <td>0.00</td>\n      <td>0.0</td>\n      <td>0.3</td>\n      <td>8.80</td>\n      <td>0.899645</td>\n    </tr>\n    <tr>\n      <th>...</th>\n      <td>...</td>\n      <td>...</td>\n      <td>...</td>\n      <td>...</td>\n      <td>...</td>\n      <td>...</td>\n      <td>...</td>\n      <td>...</td>\n      <td>...</td>\n      <td>...</td>\n      <td>...</td>\n      <td>...</td>\n      <td>...</td>\n      <td>...</td>\n      <td>...</td>\n      <td>...</td>\n      <td>...</td>\n      <td>...</td>\n      <td>...</td>\n      <td>...</td>\n    </tr>\n    <tr>\n      <th>1968670</th>\n      <td>2</td>\n      <td>2016-01-06 23:59:55</td>\n      <td>2016-01-07 00:07:27</td>\n      <td>1</td>\n      <td>1.32</td>\n      <td>-73.959755</td>\n      <td>40.773647</td>\n      <td>1</td>\n      <td>N</td>\n      <td>-73.959846</td>\n      <td>40.761883</td>\n      <td>1</td>\n      <td>7.5</td>\n      <td>0.5</td>\n      <td>0.5</td>\n      <td>1.76</td>\n      <td>0.0</td>\n      <td>0.3</td>\n      <td>10.56</td>\n      <td>0.361603</td>\n    </tr>\n    <tr>\n      <th>1968671</th>\n      <td>2</td>\n      <td>2016-01-06 23:59:57</td>\n      <td>2016-01-07 00:02:52</td>\n      <td>5</td>\n      <td>1.18</td>\n      <td>-73.977211</td>\n      <td>40.784721</td>\n      <td>1</td>\n      <td>N</td>\n      <td>-73.968307</td>\n      <td>40.799080</td>\n      <td>2</td>\n      <td>5.0</td>\n      <td>0.5</td>\n      <td>0.5</td>\n      <td>0.00</td>\n      <td>0.0</td>\n      <td>0.3</td>\n      <td>6.30</td>\n      <td>1.083728</td>\n    </tr>\n    <tr>\n      <th>1968677</th>\n      <td>2</td>\n      <td>2016-01-06 23:59:59</td>\n      <td>2016-01-07 00:15:24</td>\n      <td>1</td>\n      <td>3.56</td>\n      <td>-73.986099</td>\n      <td>40.727940</td>\n      <td>1</td>\n      <td>N</td>\n      <td>-73.983292</td>\n      <td>40.764664</td>\n      <td>1</td>\n      <td>14.0</td>\n      <td>0.5</td>\n      <td>0.5</td>\n      <td>3.06</td>\n      <td>0.0</td>\n      <td>0.3</td>\n      <td>18.36</td>\n      <td>1.169079</td>\n    </tr>\n    <tr>\n      <th>1968680</th>\n      <td>1</td>\n      <td>2016-01-05 06:14:25</td>\n      <td>2016-02-11 15:06:37</td>\n      <td>1</td>\n      <td>0.70</td>\n      <td>-73.965790</td>\n      <td>40.758984</td>\n      <td>1</td>\n      <td>N</td>\n      <td>-73.968575</td>\n      <td>40.750648</td>\n      <td>1</td>\n      <td>5.0</td>\n      <td>0.0</td>\n      <td>0.5</td>\n      <td>1.16</td>\n      <td>0.0</td>\n      <td>0.3</td>\n      <td>6.96</td>\n      <td>0.401754</td>\n    </tr>\n    <tr>\n      <th>1968682</th>\n      <td>1</td>\n      <td>2016-01-05 06:12:46</td>\n      <td>2016-03-19 20:45:50</td>\n      <td>3</td>\n      <td>1.40</td>\n      <td>-73.994240</td>\n      <td>40.766586</td>\n      <td>1</td>\n      <td>N</td>\n      <td>-73.984428</td>\n      <td>40.753922</td>\n      <td>2</td>\n      <td>7.5</td>\n      <td>0.5</td>\n      <td>0.5</td>\n      <td>0.00</td>\n      <td>0.0</td>\n      <td>0.3</td>\n      <td>8.80</td>\n      <td>1.158062</td>\n    </tr>\n  </tbody>\n</table>\n<p>716125 rows × 20 columns</p>\n</div>"
     },
     "execution_count": 48,
     "metadata": {},
     "output_type": "execute_result"
    }
   ],
   "source": [
    "data_format_time['tpep_pickup_datetime']=pd.to_datetime(data_format_time['tpep_pickup_datetime'],format='%d/%m/%Y %H:%M:%S')\n",
    "data_format_time['tpep_dropoff_datetime']=pd.to_datetime(data_format_time['tpep_dropoff_datetime'],format='%d/%m/%Y %H:%M:%S')\n",
    "data_format_time"
   ]
  },
  {
   "cell_type": "markdown",
   "metadata": {},
   "source": [
    "### 时间差 转换成秒"
   ]
  },
  {
   "cell_type": "code",
   "execution_count": 49,
   "metadata": {},
   "outputs": [
    {
     "data": {
      "text/plain": "1                0.0\n2                0.0\n14             868.0\n15             862.0\n17             429.0\n             ...    \n1968670        452.0\n1968671        175.0\n1968677        925.0\n1968680    3228732.0\n1968682    6445984.0\nLength: 716125, dtype: float64"
     },
     "execution_count": 49,
     "metadata": {},
     "output_type": "execute_result"
    }
   ],
   "source": [
    "delta_T = data_format_time['tpep_dropoff_datetime']-data_format_time['tpep_pickup_datetime']\n",
    "data_delta_T = delta_T.apply(lambda x:timedelta.total_seconds(x))\n",
    "data_delta_T"
   ]
  },
  {
   "cell_type": "markdown",
   "metadata": {},
   "source": [
    "### 将时间差加入表内"
   ]
  },
  {
   "cell_type": "code",
   "execution_count": 50,
   "metadata": {},
   "outputs": [],
   "source": [
    "data_format_time['data_delta_T'] = data_delta_T"
   ]
  },
  {
   "cell_type": "code",
   "execution_count": 51,
   "metadata": {},
   "outputs": [
    {
     "data": {
      "text/plain": "    VendorID tpep_pickup_datetime tpep_dropoff_datetime  passenger_count  \\\n1          2  2016-01-01 00:00:00   2016-01-01 00:00:00                2   \n2          2  2016-01-01 00:00:00   2016-01-01 00:00:00                5   \n14         1  2016-01-01 00:00:04   2016-01-01 00:14:32                1   \n15         1  2016-01-01 00:00:05   2016-01-01 00:14:27                2   \n17         2  2016-01-01 00:00:05   2016-01-01 00:07:14                1   \n19         2  2016-01-01 00:00:06   2016-01-01 00:07:14                1   \n22         2  2016-01-01 00:00:08   2016-01-01 00:18:51                1   \n28         2  2016-01-01 00:00:10   2016-01-01 00:02:20                1   \n32         2  2016-01-01 00:00:15   2016-01-01 00:06:31                1   \n33         1  2016-01-01 00:00:16   2016-01-01 00:33:00                2   \n\n    trip_distance  pickup_longitude  pickup_latitude  RatecodeID  \\\n1            1.10        -73.990372        40.734695           1   \n2            4.90        -73.980782        40.729912           1   \n14           3.70        -74.004303        40.742241           1   \n15           2.20        -73.991997        40.718578           1   \n17           1.92        -73.973091        40.795361           1   \n19           1.38        -73.994843        40.718498           1   \n22           3.09        -73.999069        40.720173           1   \n28           0.87        -73.954407        40.778069           1   \n32           1.56        -73.940109        40.751152           1   \n33           2.90        -73.982155        40.774879           1   \n\n   store_and_fwd_flag  dropoff_longitude  ...  payment_type  fare_amount  \\\n1                   N         -73.981842  ...             2          7.5   \n2                   N         -73.944473  ...             1         18.0   \n14                  N         -74.007362  ...             1         14.0   \n15                  N         -74.005135  ...             1         11.0   \n17                  N         -73.978371  ...             2          7.5   \n19                  N         -73.989807  ...             1          7.0   \n22                  N         -73.973389  ...             2         14.5   \n28                  N         -73.948929  ...             2          4.5   \n32                  N         -73.930023  ...             2          7.5   \n33                  N         -73.981361  ...             2         20.5   \n\n    extra  mta_tax  tip_amount  tolls_amount  improvement_surcharge  \\\n1     0.5      0.5        0.00           0.0                    0.3   \n2     0.5      0.5        0.00           0.0                    0.3   \n14    0.5      0.5        3.05           0.0                    0.3   \n15    0.5      0.5        1.50           0.0                    0.3   \n17    0.5      0.5        0.00           0.0                    0.3   \n19    0.5      0.5        1.66           0.0                    0.3   \n22    0.5      0.5        0.00           0.0                    0.3   \n28    0.5      0.5        0.00           0.0                    0.3   \n32    0.5      0.5        0.00           0.0                    0.3   \n33    0.5      0.5        0.00           0.0                    0.3   \n\n    total_amount  distance  data_delta_T  \n1           8.80  0.951052           0.0  \n2          19.30  4.057717           0.0  \n14         18.35  1.133931         868.0  \n15         13.80  1.600947         862.0  \n17          8.80  0.899645         429.0  \n19          9.96  0.739059         428.0  \n22         15.80  3.065961        1123.0  \n28          5.80  0.689540         130.0  \n32          8.80  1.223587         376.0  \n33         21.80  0.948110        1964.0  \n\n[10 rows x 21 columns]",
      "text/html": "<div>\n<style scoped>\n    .dataframe tbody tr th:only-of-type {\n        vertical-align: middle;\n    }\n\n    .dataframe tbody tr th {\n        vertical-align: top;\n    }\n\n    .dataframe thead th {\n        text-align: right;\n    }\n</style>\n<table border=\"1\" class=\"dataframe\">\n  <thead>\n    <tr style=\"text-align: right;\">\n      <th></th>\n      <th>VendorID</th>\n      <th>tpep_pickup_datetime</th>\n      <th>tpep_dropoff_datetime</th>\n      <th>passenger_count</th>\n      <th>trip_distance</th>\n      <th>pickup_longitude</th>\n      <th>pickup_latitude</th>\n      <th>RatecodeID</th>\n      <th>store_and_fwd_flag</th>\n      <th>dropoff_longitude</th>\n      <th>...</th>\n      <th>payment_type</th>\n      <th>fare_amount</th>\n      <th>extra</th>\n      <th>mta_tax</th>\n      <th>tip_amount</th>\n      <th>tolls_amount</th>\n      <th>improvement_surcharge</th>\n      <th>total_amount</th>\n      <th>distance</th>\n      <th>data_delta_T</th>\n    </tr>\n  </thead>\n  <tbody>\n    <tr>\n      <th>1</th>\n      <td>2</td>\n      <td>2016-01-01 00:00:00</td>\n      <td>2016-01-01 00:00:00</td>\n      <td>2</td>\n      <td>1.10</td>\n      <td>-73.990372</td>\n      <td>40.734695</td>\n      <td>1</td>\n      <td>N</td>\n      <td>-73.981842</td>\n      <td>...</td>\n      <td>2</td>\n      <td>7.5</td>\n      <td>0.5</td>\n      <td>0.5</td>\n      <td>0.00</td>\n      <td>0.0</td>\n      <td>0.3</td>\n      <td>8.80</td>\n      <td>0.951052</td>\n      <td>0.0</td>\n    </tr>\n    <tr>\n      <th>2</th>\n      <td>2</td>\n      <td>2016-01-01 00:00:00</td>\n      <td>2016-01-01 00:00:00</td>\n      <td>5</td>\n      <td>4.90</td>\n      <td>-73.980782</td>\n      <td>40.729912</td>\n      <td>1</td>\n      <td>N</td>\n      <td>-73.944473</td>\n      <td>...</td>\n      <td>1</td>\n      <td>18.0</td>\n      <td>0.5</td>\n      <td>0.5</td>\n      <td>0.00</td>\n      <td>0.0</td>\n      <td>0.3</td>\n      <td>19.30</td>\n      <td>4.057717</td>\n      <td>0.0</td>\n    </tr>\n    <tr>\n      <th>14</th>\n      <td>1</td>\n      <td>2016-01-01 00:00:04</td>\n      <td>2016-01-01 00:14:32</td>\n      <td>1</td>\n      <td>3.70</td>\n      <td>-74.004303</td>\n      <td>40.742241</td>\n      <td>1</td>\n      <td>N</td>\n      <td>-74.007362</td>\n      <td>...</td>\n      <td>1</td>\n      <td>14.0</td>\n      <td>0.5</td>\n      <td>0.5</td>\n      <td>3.05</td>\n      <td>0.0</td>\n      <td>0.3</td>\n      <td>18.35</td>\n      <td>1.133931</td>\n      <td>868.0</td>\n    </tr>\n    <tr>\n      <th>15</th>\n      <td>1</td>\n      <td>2016-01-01 00:00:05</td>\n      <td>2016-01-01 00:14:27</td>\n      <td>2</td>\n      <td>2.20</td>\n      <td>-73.991997</td>\n      <td>40.718578</td>\n      <td>1</td>\n      <td>N</td>\n      <td>-74.005135</td>\n      <td>...</td>\n      <td>1</td>\n      <td>11.0</td>\n      <td>0.5</td>\n      <td>0.5</td>\n      <td>1.50</td>\n      <td>0.0</td>\n      <td>0.3</td>\n      <td>13.80</td>\n      <td>1.600947</td>\n      <td>862.0</td>\n    </tr>\n    <tr>\n      <th>17</th>\n      <td>2</td>\n      <td>2016-01-01 00:00:05</td>\n      <td>2016-01-01 00:07:14</td>\n      <td>1</td>\n      <td>1.92</td>\n      <td>-73.973091</td>\n      <td>40.795361</td>\n      <td>1</td>\n      <td>N</td>\n      <td>-73.978371</td>\n      <td>...</td>\n      <td>2</td>\n      <td>7.5</td>\n      <td>0.5</td>\n      <td>0.5</td>\n      <td>0.00</td>\n      <td>0.0</td>\n      <td>0.3</td>\n      <td>8.80</td>\n      <td>0.899645</td>\n      <td>429.0</td>\n    </tr>\n    <tr>\n      <th>19</th>\n      <td>2</td>\n      <td>2016-01-01 00:00:06</td>\n      <td>2016-01-01 00:07:14</td>\n      <td>1</td>\n      <td>1.38</td>\n      <td>-73.994843</td>\n      <td>40.718498</td>\n      <td>1</td>\n      <td>N</td>\n      <td>-73.989807</td>\n      <td>...</td>\n      <td>1</td>\n      <td>7.0</td>\n      <td>0.5</td>\n      <td>0.5</td>\n      <td>1.66</td>\n      <td>0.0</td>\n      <td>0.3</td>\n      <td>9.96</td>\n      <td>0.739059</td>\n      <td>428.0</td>\n    </tr>\n    <tr>\n      <th>22</th>\n      <td>2</td>\n      <td>2016-01-01 00:00:08</td>\n      <td>2016-01-01 00:18:51</td>\n      <td>1</td>\n      <td>3.09</td>\n      <td>-73.999069</td>\n      <td>40.720173</td>\n      <td>1</td>\n      <td>N</td>\n      <td>-73.973389</td>\n      <td>...</td>\n      <td>2</td>\n      <td>14.5</td>\n      <td>0.5</td>\n      <td>0.5</td>\n      <td>0.00</td>\n      <td>0.0</td>\n      <td>0.3</td>\n      <td>15.80</td>\n      <td>3.065961</td>\n      <td>1123.0</td>\n    </tr>\n    <tr>\n      <th>28</th>\n      <td>2</td>\n      <td>2016-01-01 00:00:10</td>\n      <td>2016-01-01 00:02:20</td>\n      <td>1</td>\n      <td>0.87</td>\n      <td>-73.954407</td>\n      <td>40.778069</td>\n      <td>1</td>\n      <td>N</td>\n      <td>-73.948929</td>\n      <td>...</td>\n      <td>2</td>\n      <td>4.5</td>\n      <td>0.5</td>\n      <td>0.5</td>\n      <td>0.00</td>\n      <td>0.0</td>\n      <td>0.3</td>\n      <td>5.80</td>\n      <td>0.689540</td>\n      <td>130.0</td>\n    </tr>\n    <tr>\n      <th>32</th>\n      <td>2</td>\n      <td>2016-01-01 00:00:15</td>\n      <td>2016-01-01 00:06:31</td>\n      <td>1</td>\n      <td>1.56</td>\n      <td>-73.940109</td>\n      <td>40.751152</td>\n      <td>1</td>\n      <td>N</td>\n      <td>-73.930023</td>\n      <td>...</td>\n      <td>2</td>\n      <td>7.5</td>\n      <td>0.5</td>\n      <td>0.5</td>\n      <td>0.00</td>\n      <td>0.0</td>\n      <td>0.3</td>\n      <td>8.80</td>\n      <td>1.223587</td>\n      <td>376.0</td>\n    </tr>\n    <tr>\n      <th>33</th>\n      <td>1</td>\n      <td>2016-01-01 00:00:16</td>\n      <td>2016-01-01 00:33:00</td>\n      <td>2</td>\n      <td>2.90</td>\n      <td>-73.982155</td>\n      <td>40.774879</td>\n      <td>1</td>\n      <td>N</td>\n      <td>-73.981361</td>\n      <td>...</td>\n      <td>2</td>\n      <td>20.5</td>\n      <td>0.5</td>\n      <td>0.5</td>\n      <td>0.00</td>\n      <td>0.0</td>\n      <td>0.3</td>\n      <td>21.80</td>\n      <td>0.948110</td>\n      <td>1964.0</td>\n    </tr>\n  </tbody>\n</table>\n<p>10 rows × 21 columns</p>\n</div>"
     },
     "execution_count": 51,
     "metadata": {},
     "output_type": "execute_result"
    }
   ],
   "source": [
    "data_format_time.head(10)"
   ]
  },
  {
   "cell_type": "markdown",
   "metadata": {},
   "source": [
    "### 清理时间数据"
   ]
  },
  {
   "cell_type": "code",
   "execution_count": 52,
   "metadata": {},
   "outputs": [
    {
     "name": "stdout",
     "output_type": "stream",
     "text": [
      "upper limit is: 1852.0\n",
      "lower limit is: 110.0\n",
      "new data is 701820\n",
      "old data is 716125\n",
      "outlier: 14305\n"
     ]
    },
    {
     "data": {
      "text/plain": "<AxesSubplot:>"
     },
     "execution_count": 52,
     "metadata": {},
     "output_type": "execute_result"
    },
    {
     "data": {
      "text/plain": "<Figure size 640x480 with 2 Axes>",
      "image/png": "[encoded data removed]"
     },
     "metadata": {},
     "output_type": "display_data"
    }
   ],
   "source": [
    "# data_time = clean_data_outlier(data_format_time,'data_delta_T')\n",
    "pic = plt.figure()\n",
    "\n",
    "upper_limit = data_format_time['data_delta_T'].quantile(0.99)\n",
    "lower_limit = data_format_time['data_delta_T'].quantile(0.01)\n",
    "print(\"upper limit is:\",upper_limit)\n",
    "print(\"lower limit is:\",lower_limit)\n",
    "# 初始化箱型图\n",
    "pic.add_subplot(2,1,1)\n",
    "sns.boxplot(data_format_time['data_delta_T'].tolist())\n",
    "# 删除异常值\n",
    "outlier = data_format_time.loc[(data_format_time['data_delta_T'] > upper_limit) | (data_format_time['data_delta_T'] < lower_limit)]\n",
    "# trimming -delete the outlier data\n",
    "data_time = data_format_time.loc[(data_format_time['data_delta_T'] <= upper_limit) & (data_format_time['data_delta_T'] >= lower_limit)]\n",
    "print(\"new data is\", len(data_time))\n",
    "print(\"old data is\", len(data_format_time))\n",
    "print(\"outlier:\", len(outlier))\n",
    "# 删除异常值之后的箱型图\n",
    "pic.add_subplot(2,1,2)\n",
    "sns.boxplot(data_time['data_delta_T'].tolist())"
   ]
  },
  {
   "cell_type": "code",
   "execution_count": 53,
   "metadata": {},
   "outputs": [
    {
     "data": {
      "text/plain": "         VendorID tpep_pickup_datetime tpep_dropoff_datetime  passenger_count  \\\n14              1  2016-01-01 00:00:04   2016-01-01 00:14:32                1   \n15              1  2016-01-01 00:00:05   2016-01-01 00:14:27                2   \n17              2  2016-01-01 00:00:05   2016-01-01 00:07:14                1   \n19              2  2016-01-01 00:00:06   2016-01-01 00:07:14                1   \n22              2  2016-01-01 00:00:08   2016-01-01 00:18:51                1   \n...           ...                  ...                   ...              ...   \n1968666         2  2016-01-06 23:59:54   2016-01-07 00:15:23                1   \n1968669         2  2016-01-06 23:59:55   2016-01-07 00:05:12                1   \n1968670         2  2016-01-06 23:59:55   2016-01-07 00:07:27                1   \n1968671         2  2016-01-06 23:59:57   2016-01-07 00:02:52                5   \n1968677         2  2016-01-06 23:59:59   2016-01-07 00:15:24                1   \n\n         trip_distance  pickup_longitude  pickup_latitude  RatecodeID  \\\n14                3.70        -74.004303        40.742241           1   \n15                2.20        -73.991997        40.718578           1   \n17                1.92        -73.973091        40.795361           1   \n19                1.38        -73.994843        40.718498           1   \n22                3.09        -73.999069        40.720173           1   \n...                ...               ...              ...         ...   \n1968666           4.57        -73.985130        40.744717           1   \n1968669           0.50        -73.993584        40.727299           1   \n1968670           1.32        -73.959755        40.773647           1   \n1968671           1.18        -73.977211        40.784721           1   \n1968677           3.56        -73.986099        40.727940           1   \n\n        store_and_fwd_flag  dropoff_longitude  ...  payment_type  fare_amount  \\\n14                       N         -74.007362  ...             1         14.0   \n15                       N         -74.005135  ...             1         11.0   \n17                       N         -73.978371  ...             2          7.5   \n19                       N         -73.989807  ...             1          7.0   \n22                       N         -73.973389  ...             2         14.5   \n...                    ...                ...  ...           ...          ...   \n1968666                  N         -73.952499  ...             1         16.5   \n1968669                  N         -73.996552  ...             2          5.0   \n1968670                  N         -73.959846  ...             1          7.5   \n1968671                  N         -73.968307  ...             2          5.0   \n1968677                  N         -73.983292  ...             1         14.0   \n\n         extra  mta_tax  tip_amount  tolls_amount  improvement_surcharge  \\\n14         0.5      0.5        3.05           0.0                    0.3   \n15         0.5      0.5        1.50           0.0                    0.3   \n17         0.5      0.5        0.00           0.0                    0.3   \n19         0.5      0.5        1.66           0.0                    0.3   \n22         0.5      0.5        0.00           0.0                    0.3   \n...        ...      ...         ...           ...                    ...   \n1968666    0.5      0.5        3.00           0.0                    0.3   \n1968669    0.5      0.5        0.00           0.0                    0.3   \n1968670    0.5      0.5        1.76           0.0                    0.3   \n1968671    0.5      0.5        0.00           0.0                    0.3   \n1968677    0.5      0.5        3.06           0.0                    0.3   \n\n         total_amount  distance  data_delta_T  \n14              18.35  1.133931         868.0  \n15              13.80  1.600947         862.0  \n17               8.80  0.899645         429.0  \n19               9.96  0.739059         428.0  \n22              15.80  3.065961        1123.0  \n...               ...       ...           ...  \n1968666         20.80  3.774883         929.0  \n1968669          6.30  0.330015         317.0  \n1968670         10.56  0.361603         452.0  \n1968671          6.30  1.083728         175.0  \n1968677         18.36  1.169079         925.0  \n\n[701820 rows x 21 columns]",
      "text/html": "<div>\n<style scoped>\n    .dataframe tbody tr th:only-of-type {\n        vertical-align: middle;\n    }\n\n    .dataframe tbody tr th {\n        vertical-align: top;\n    }\n\n    .dataframe thead th {\n        text-align: right;\n    }\n</style>\n<table border=\"1\" class=\"dataframe\">\n  <thead>\n    <tr style=\"text-align: right;\">\n      <th></th>\n      <th>VendorID</th>\n      <th>tpep_pickup_datetime</th>\n      <th>tpep_dropoff_datetime</th>\n      <th>passenger_count</th>\n      <th>trip_distance</th>\n      <th>pickup_longitude</th>\n      <th>pickup_latitude</th>\n      <th>RatecodeID</th>\n      <th>store_and_fwd_flag</th>\n      <th>dropoff_longitude</th>\n      <th>...</th>\n      <th>payment_type</th>\n      <th>fare_amount</th>\n      <th>extra</th>\n      <th>mta_tax</th>\n      <th>tip_amount</th>\n      <th>tolls_amount</th>\n      <th>improvement_surcharge</th>\n      <th>total_amount</th>\n      <th>distance</th>\n      <th>data_delta_T</th>\n    </tr>\n  </thead>\n  <tbody>\n    <tr>\n      <th>14</th>\n      <td>1</td>\n      <td>2016-01-01 00:00:04</td>\n      <td>2016-01-01 00:14:32</td>\n      <td>1</td>\n      <td>3.70</td>\n      <td>-74.004303</td>\n      <td>40.742241</td>\n      <td>1</td>\n      <td>N</td>\n      <td>-74.007362</td>\n      <td>...</td>\n      <td>1</td>\n      <td>14.0</td>\n      <td>0.5</td>\n      <td>0.5</td>\n      <td>3.05</td>\n      <td>0.0</td>\n      <td>0.3</td>\n      <td>18.35</td>\n      <td>1.133931</td>\n      <td>868.0</td>\n    </tr>\n    <tr>\n      <th>15</th>\n      <td>1</td>\n      <td>2016-01-01 00:00:05</td>\n      <td>2016-01-01 00:14:27</td>\n      <td>2</td>\n      <td>2.20</td>\n      <td>-73.991997</td>\n      <td>40.718578</td>\n      <td>1</td>\n      <td>N</td>\n      <td>-74.005135</td>\n      <td>...</td>\n      <td>1</td>\n      <td>11.0</td>\n      <td>0.5</td>\n      <td>0.5</td>\n      <td>1.50</td>\n      <td>0.0</td>\n      <td>0.3</td>\n      <td>13.80</td>\n      <td>1.600947</td>\n      <td>862.0</td>\n    </tr>\n    <tr>\n      <th>17</th>\n      <td>2</td>\n      <td>2016-01-01 00:00:05</td>\n      <td>2016-01-01 00:07:14</td>\n      <td>1</td>\n      <td>1.92</td>\n      <td>-73.973091</td>\n      <td>40.795361</td>\n      <td>1</td>\n      <td>N</td>\n      <td>-73.978371</td>\n      <td>...</td>\n      <td>2</td>\n      <td>7.5</td>\n      <td>0.5</td>\n      <td>0.5</td>\n      <td>0.00</td>\n      <td>0.0</td>\n      <td>0.3</td>\n      <td>8.80</td>\n      <td>0.899645</td>\n      <td>429.0</td>\n    </tr>\n    <tr>\n      <th>19</th>\n      <td>2</td>\n      <td>2016-01-01 00:00:06</td>\n      <td>2016-01-01 00:07:14</td>\n      <td>1</td>\n      <td>1.38</td>\n      <td>-73.994843</td>\n      <td>40.718498</td>\n      <td>1</td>\n      <td>N</td>\n      <td>-73.989807</td>\n      <td>...</td>\n      <td>1</td>\n      <td>7.0</td>\n      <td>0.5</td>\n      <td>0.5</td>\n      <td>1.66</td>\n      <td>0.0</td>\n      <td>0.3</td>\n      <td>9.96</td>\n      <td>0.739059</td>\n      <td>428.0</td>\n    </tr>\n    <tr>\n      <th>22</th>\n      <td>2</td>\n      <td>2016-01-01 00:00:08</td>\n      <td>2016-01-01 00:18:51</td>\n      <td>1</td>\n      <td>3.09</td>\n      <td>-73.999069</td>\n      <td>40.720173</td>\n      <td>1</td>\n      <td>N</td>\n      <td>-73.973389</td>\n      <td>...</td>\n      <td>2</td>\n      <td>14.5</td>\n      <td>0.5</td>\n      <td>0.5</td>\n      <td>0.00</td>\n      <td>0.0</td>\n      <td>0.3</td>\n      <td>15.80</td>\n      <td>3.065961</td>\n      <td>1123.0</td>\n    </tr>\n    <tr>\n      <th>...</th>\n      <td>...</td>\n      <td>...</td>\n      <td>...</td>\n      <td>...</td>\n      <td>...</td>\n      <td>...</td>\n      <td>...</td>\n      <td>...</td>\n      <td>...</td>\n      <td>...</td>\n      <td>...</td>\n      <td>...</td>\n      <td>...</td>\n      <td>...</td>\n      <td>...</td>\n      <td>...</td>\n      <td>...</td>\n      <td>...</td>\n      <td>...</td>\n      <td>...</td>\n      <td>...</td>\n    </tr>\n    <tr>\n      <th>1968666</th>\n      <td>2</td>\n      <td>2016-01-06 23:59:54</td>\n      <td>2016-01-07 00:15:23</td>\n      <td>1</td>\n      <td>4.57</td>\n      <td>-73.985130</td>\n      <td>40.744717</td>\n      <td>1</td>\n      <td>N</td>\n      <td>-73.952499</td>\n      <td>...</td>\n      <td>1</td>\n      <td>16.5</td>\n      <td>0.5</td>\n      <td>0.5</td>\n      <td>3.00</td>\n      <td>0.0</td>\n      <td>0.3</td>\n      <td>20.80</td>\n      <td>3.774883</td>\n      <td>929.0</td>\n    </tr>\n    <tr>\n      <th>1968669</th>\n      <td>2</td>\n      <td>2016-01-06 23:59:55</td>\n      <td>2016-01-07 00:05:12</td>\n      <td>1</td>\n      <td>0.50</td>\n      <td>-73.993584</td>\n      <td>40.727299</td>\n      <td>1</td>\n      <td>N</td>\n      <td>-73.996552</td>\n      <td>...</td>\n      <td>2</td>\n      <td>5.0</td>\n      <td>0.5</td>\n      <td>0.5</td>\n      <td>0.00</td>\n      <td>0.0</td>\n      <td>0.3</td>\n      <td>6.30</td>\n      <td>0.330015</td>\n      <td>317.0</td>\n    </tr>\n    <tr>\n      <th>1968670</th>\n      <td>2</td>\n      <td>2016-01-06 23:59:55</td>\n      <td>2016-01-07 00:07:27</td>\n      <td>1</td>\n      <td>1.32</td>\n      <td>-73.959755</td>\n      <td>40.773647</td>\n      <td>1</td>\n      <td>N</td>\n      <td>-73.959846</td>\n      <td>...</td>\n      <td>1</td>\n      <td>7.5</td>\n      <td>0.5</td>\n      <td>0.5</td>\n      <td>1.76</td>\n      <td>0.0</td>\n      <td>0.3</td>\n      <td>10.56</td>\n      <td>0.361603</td>\n      <td>452.0</td>\n    </tr>\n    <tr>\n      <th>1968671</th>\n      <td>2</td>\n      <td>2016-01-06 23:59:57</td>\n      <td>2016-01-07 00:02:52</td>\n      <td>5</td>\n      <td>1.18</td>\n      <td>-73.977211</td>\n      <td>40.784721</td>\n      <td>1</td>\n      <td>N</td>\n      <td>-73.968307</td>\n      <td>...</td>\n      <td>2</td>\n      <td>5.0</td>\n      <td>0.5</td>\n      <td>0.5</td>\n      <td>0.00</td>\n      <td>0.0</td>\n      <td>0.3</td>\n      <td>6.30</td>\n      <td>1.083728</td>\n      <td>175.0</td>\n    </tr>\n    <tr>\n      <th>1968677</th>\n      <td>2</td>\n      <td>2016-01-06 23:59:59</td>\n      <td>2016-01-07 00:15:24</td>\n      <td>1</td>\n      <td>3.56</td>\n      <td>-73.986099</td>\n      <td>40.727940</td>\n      <td>1</td>\n      <td>N</td>\n      <td>-73.983292</td>\n      <td>...</td>\n      <td>1</td>\n      <td>14.0</td>\n      <td>0.5</td>\n      <td>0.5</td>\n      <td>3.06</td>\n      <td>0.0</td>\n      <td>0.3</td>\n      <td>18.36</td>\n      <td>1.169079</td>\n      <td>925.0</td>\n    </tr>\n  </tbody>\n</table>\n<p>701820 rows × 21 columns</p>\n</div>"
     },
     "execution_count": 53,
     "metadata": {},
     "output_type": "execute_result"
    }
   ],
   "source": [
    "data_time"
   ]
  },
  {
   "cell_type": "markdown",
   "metadata": {},
   "source": [
    "### 实现经纬度转地址\n",
    "### 网约车定位信息"
   ]
  },
  {
   "cell_type": "code",
   "execution_count": 54,
   "metadata": {
    "scrolled": true
   },
   "outputs": [
    {
     "data": {
      "text/plain": "array([[-73.9903717 ,  40.73469543],\n       [-73.98078156,  40.7299118 ],\n       [-73.96062469,  40.78133011],\n       [-73.97942352,  40.74461365],\n       [-74.00614929,  40.74491882],\n       [-73.96932983,  40.76353836],\n       [-74.00430298,  40.74224091],\n       [-73.99199677,  40.71857834],\n       [-73.98516083,  40.76895142],\n       [-73.97309113,  40.79536057],\n       [-73.98210144,  40.77469635],\n       [-73.99484253,  40.71849823],\n       [-73.98916626,  40.7265892 ],\n       [-73.99906921,  40.72017288],\n       [-73.99713898,  40.74721909],\n       [-73.99741364,  40.73667526],\n       [-73.99713135,  40.73696136],\n       [-73.96391296,  40.71217346],\n       [-73.99939728,  40.7439003 ],\n       [-73.95440674,  40.77806854],\n       [-73.99559784,  40.74423981],\n       [-73.99027252,  40.7720108 ],\n       [-73.94010925,  40.75115204],\n       [-73.98215485,  40.77487946],\n       [-74.00806427,  40.74206924],\n       [-74.00267792,  40.7306366 ],\n       [-73.98165894,  40.77373886],\n       [-73.96305847,  40.77501678],\n       [-73.96125793,  40.7961998 ],\n       [-73.97567749,  40.74909973],\n       [-73.94969177,  40.78461838],\n       [-73.98184967,  40.7168808 ],\n       [-73.99586487,  40.76777267],\n       [-73.9787674 ,  40.74510574],\n       [-73.96937561,  40.78523636],\n       [-73.99058533,  40.74588013],\n       [-73.97434235,  40.75666046],\n       [-73.99234772,  40.74343872],\n       [-73.93352509,  40.80292892],\n       [-73.99694824,  40.72050095],\n       [-73.99375916,  40.75162125],\n       [-73.96375275,  40.77116013],\n       [-73.97602081,  40.74456024],\n       [-73.96987152,  40.76850891],\n       [-74.00437927,  40.74225235],\n       [-73.99133301,  40.72389221],\n       [-73.97415924,  40.79573059],\n       [-73.99420166,  40.72647095],\n       [-73.98963928,  40.73439789],\n       [-74.0014801 ,  40.72743988],\n       [-73.97915649,  40.74050903],\n       [-73.98213959,  40.77168655],\n       [-73.99739838,  40.7207489 ],\n       [-73.98404694,  40.75527954],\n       [-73.98387146,  40.74240875],\n       [-73.99575043,  40.74409103],\n       [-73.98508453,  40.74716568],\n       [-73.97100067,  40.79764175],\n       [-73.98415375,  40.76485825],\n       [-73.9796524 ,  40.77611923],\n       [-73.96527863,  40.80104065],\n       [-73.98442078,  40.76723862],\n       [-74.01099396,  40.70887375],\n       [-73.98074341,  40.7469101 ],\n       [-73.99197388,  40.72647858],\n       [-74.00213623,  40.76063919],\n       [-73.99497223,  40.76023483],\n       [-74.00226593,  40.73036957],\n       [-73.98082733,  40.7796402 ],\n       [-73.99807739,  40.73796844],\n       [-73.99944305,  40.72983551],\n       [-73.93270874,  40.75286102],\n       [-73.98168945,  40.76839066],\n       [-74.00348663,  40.74156952],\n       [-73.97794342,  40.78367615],\n       [-73.99256897,  40.73961639],\n       [-73.97776031,  40.75228119],\n       [-73.99425507,  40.73199463],\n       [-73.98516083,  40.74452972],\n       [-73.98229218,  40.75133133],\n       [-73.93431854,  40.75148392],\n       [-73.95953369,  40.78274536],\n       [-73.95264435,  40.77649689],\n       [-73.97743225,  40.75831604],\n       [-73.927742  ,  40.69787216],\n       [-73.96659088,  40.75758743],\n       [-73.95474243,  40.76550674],\n       [-73.99769592,  40.73765945],\n       [-73.96755219,  40.75685883],\n       [-73.96469879,  40.79679871],\n       [-73.97010803,  40.75979996],\n       [-74.00189972,  40.73940659],\n       [-73.95522308,  40.80437851],\n       [-74.00466919,  40.71595764],\n       [-73.94828033,  40.78263092],\n       [-73.99861145,  40.73817062],\n       [-73.97940063,  40.73976898],\n       [-73.97293091,  40.75260162],\n       [-73.97964478,  40.76019669],\n       [-73.99504089,  40.76044846]])"
     },
     "execution_count": 54,
     "metadata": {},
     "output_type": "execute_result"
    }
   ],
   "source": [
    "pickup_lon_lat = np.array(pickup_lon_lat)\n",
    "pickup_lon_lat[:100]"
   ]
  },
  {
   "cell_type": "markdown",
   "metadata": {},
   "source": [
    "# 1000例数据测试"
   ]
  },
  {
   "cell_type": "code",
   "execution_count": 55,
   "metadata": {},
   "outputs": [],
   "source": [
    "# x = data_time[:1000]"
   ]
  },
  {
   "cell_type": "code",
   "execution_count": 56,
   "metadata": {},
   "outputs": [],
   "source": [
    "# # 初始化地图\n",
    "# m_1 = folium.Map(location=[x['pickup_latitude'].mean(),x['pickup_longitude'].mean()],zoom_start=15)\n",
    "#\n",
    "# # 初始化点聚类\n",
    "# mc = MarkerCluster()\n",
    "# for idx,row in x.iterrows():\n",
    "#     mc.add_child(Marker([row['pickup_latitude'],row['pickup_longitude']]))\n",
    "# m_1.add_child(mc)\n",
    "# m_1"
   ]
  },
  {
   "cell_type": "code",
   "execution_count": 57,
   "metadata": {},
   "outputs": [
    {
     "name": "stderr",
     "output_type": "stream",
     "text": [
      "C:\\Users\\shumo\\AppData\\Local\\Temp\\ipykernel_18692\\1801131816.py:1: SettingWithCopyWarning: \n",
      "A value is trying to be set on a copy of a slice from a DataFrame.\n",
      "Try using .loc[row_indexer,col_indexer] = value instead\n",
      "\n",
      "See the caveats in the documentation: https://pandas.pydata.org/pandas-docs/stable/user_guide/indexing.html#returning-a-view-versus-a-copy\n",
      "  data_time[\"day\"] = data_time[\"tpep_pickup_datetime\"].dt.day\n"
     ]
    },
    {
     "data": {
      "text/plain": "    VendorID tpep_pickup_datetime tpep_dropoff_datetime  passenger_count  \\\n14         1  2016-01-01 00:00:04   2016-01-01 00:14:32                1   \n15         1  2016-01-01 00:00:05   2016-01-01 00:14:27                2   \n17         2  2016-01-01 00:00:05   2016-01-01 00:07:14                1   \n19         2  2016-01-01 00:00:06   2016-01-01 00:07:14                1   \n22         2  2016-01-01 00:00:08   2016-01-01 00:18:51                1   \n\n    trip_distance  pickup_longitude  pickup_latitude  RatecodeID  \\\n14           3.70        -74.004303        40.742241           1   \n15           2.20        -73.991997        40.718578           1   \n17           1.92        -73.973091        40.795361           1   \n19           1.38        -73.994843        40.718498           1   \n22           3.09        -73.999069        40.720173           1   \n\n   store_and_fwd_flag  dropoff_longitude  ...  fare_amount  extra  mta_tax  \\\n14                  N         -74.007362  ...         14.0    0.5      0.5   \n15                  N         -74.005135  ...         11.0    0.5      0.5   \n17                  N         -73.978371  ...          7.5    0.5      0.5   \n19                  N         -73.989807  ...          7.0    0.5      0.5   \n22                  N         -73.973389  ...         14.5    0.5      0.5   \n\n    tip_amount  tolls_amount  improvement_surcharge  total_amount  distance  \\\n14        3.05           0.0                    0.3         18.35  1.133931   \n15        1.50           0.0                    0.3         13.80  1.600947   \n17        0.00           0.0                    0.3          8.80  0.899645   \n19        1.66           0.0                    0.3          9.96  0.739059   \n22        0.00           0.0                    0.3         15.80  3.065961   \n\n    data_delta_T  day  \n14         868.0    1  \n15         862.0    1  \n17         429.0    1  \n19         428.0    1  \n22        1123.0    1  \n\n[5 rows x 22 columns]",
      "text/html": "<div>\n<style scoped>\n    .dataframe tbody tr th:only-of-type {\n        vertical-align: middle;\n    }\n\n    .dataframe tbody tr th {\n        vertical-align: top;\n    }\n\n    .dataframe thead th {\n        text-align: right;\n    }\n</style>\n<table border=\"1\" class=\"dataframe\">\n  <thead>\n    <tr style=\"text-align: right;\">\n      <th></th>\n      <th>VendorID</th>\n      <th>tpep_pickup_datetime</th>\n      <th>tpep_dropoff_datetime</th>\n      <th>passenger_count</th>\n      <th>trip_distance</th>\n      <th>pickup_longitude</th>\n      <th>pickup_latitude</th>\n      <th>RatecodeID</th>\n      <th>store_and_fwd_flag</th>\n      <th>dropoff_longitude</th>\n      <th>...</th>\n      <th>fare_amount</th>\n      <th>extra</th>\n      <th>mta_tax</th>\n      <th>tip_amount</th>\n      <th>tolls_amount</th>\n      <th>improvement_surcharge</th>\n      <th>total_amount</th>\n      <th>distance</th>\n      <th>data_delta_T</th>\n      <th>day</th>\n    </tr>\n  </thead>\n  <tbody>\n    <tr>\n      <th>14</th>\n      <td>1</td>\n      <td>2016-01-01 00:00:04</td>\n      <td>2016-01-01 00:14:32</td>\n      <td>1</td>\n      <td>3.70</td>\n      <td>-74.004303</td>\n      <td>40.742241</td>\n      <td>1</td>\n      <td>N</td>\n      <td>-74.007362</td>\n      <td>...</td>\n      <td>14.0</td>\n      <td>0.5</td>\n      <td>0.5</td>\n      <td>3.05</td>\n      <td>0.0</td>\n      <td>0.3</td>\n      <td>18.35</td>\n      <td>1.133931</td>\n      <td>868.0</td>\n      <td>1</td>\n    </tr>\n    <tr>\n      <th>15</th>\n      <td>1</td>\n      <td>2016-01-01 00:00:05</td>\n      <td>2016-01-01 00:14:27</td>\n      <td>2</td>\n      <td>2.20</td>\n      <td>-73.991997</td>\n      <td>40.718578</td>\n      <td>1</td>\n      <td>N</td>\n      <td>-74.005135</td>\n      <td>...</td>\n      <td>11.0</td>\n      <td>0.5</td>\n      <td>0.5</td>\n      <td>1.50</td>\n      <td>0.0</td>\n      <td>0.3</td>\n      <td>13.80</td>\n      <td>1.600947</td>\n      <td>862.0</td>\n      <td>1</td>\n    </tr>\n    <tr>\n      <th>17</th>\n      <td>2</td>\n      <td>2016-01-01 00:00:05</td>\n      <td>2016-01-01 00:07:14</td>\n      <td>1</td>\n      <td>1.92</td>\n      <td>-73.973091</td>\n      <td>40.795361</td>\n      <td>1</td>\n      <td>N</td>\n      <td>-73.978371</td>\n      <td>...</td>\n      <td>7.5</td>\n      <td>0.5</td>\n      <td>0.5</td>\n      <td>0.00</td>\n      <td>0.0</td>\n      <td>0.3</td>\n      <td>8.80</td>\n      <td>0.899645</td>\n      <td>429.0</td>\n      <td>1</td>\n    </tr>\n    <tr>\n      <th>19</th>\n      <td>2</td>\n      <td>2016-01-01 00:00:06</td>\n      <td>2016-01-01 00:07:14</td>\n      <td>1</td>\n      <td>1.38</td>\n      <td>-73.994843</td>\n      <td>40.718498</td>\n      <td>1</td>\n      <td>N</td>\n      <td>-73.989807</td>\n      <td>...</td>\n      <td>7.0</td>\n      <td>0.5</td>\n      <td>0.5</td>\n      <td>1.66</td>\n      <td>0.0</td>\n      <td>0.3</td>\n      <td>9.96</td>\n      <td>0.739059</td>\n      <td>428.0</td>\n      <td>1</td>\n    </tr>\n    <tr>\n      <th>22</th>\n      <td>2</td>\n      <td>2016-01-01 00:00:08</td>\n      <td>2016-01-01 00:18:51</td>\n      <td>1</td>\n      <td>3.09</td>\n      <td>-73.999069</td>\n      <td>40.720173</td>\n      <td>1</td>\n      <td>N</td>\n      <td>-73.973389</td>\n      <td>...</td>\n      <td>14.5</td>\n      <td>0.5</td>\n      <td>0.5</td>\n      <td>0.00</td>\n      <td>0.0</td>\n      <td>0.3</td>\n      <td>15.80</td>\n      <td>3.065961</td>\n      <td>1123.0</td>\n      <td>1</td>\n    </tr>\n  </tbody>\n</table>\n<p>5 rows × 22 columns</p>\n</div>"
     },
     "execution_count": 57,
     "metadata": {},
     "output_type": "execute_result"
    }
   ],
   "source": [
    "data_time[\"day\"] = data_time[\"tpep_pickup_datetime\"].dt.day\n",
    "# data_time = data_time[[\"tpep_pickup_datetime\", \"day\"]]\n",
    "data_time.head()"
   ]
  },
  {
   "cell_type": "code",
   "execution_count": 58,
   "metadata": {},
   "outputs": [
    {
     "name": "stdout",
     "output_type": "stream",
     "text": [
      "平台1day1位置信息: (52626, 22)\n",
      "平台1day2位置信息: (51896, 22)\n",
      "平台1day3位置信息: (48116, 22)\n",
      "平台1day4位置信息: (50037, 22)\n",
      "平台1day5位置信息: (53961, 22)\n",
      "平台1day6位置信息: (55484, 22)\n"
     ]
    }
   ],
   "source": [
    "data_time_day1_ID1 = data_time[(data_time['VendorID'] == 1) & (data_time['day'] == 1)]\n",
    "data_time_day1_ID2 = data_time[(data_time['VendorID'] == 1) & (data_time['day'] == 2)]\n",
    "data_time_day1_ID3 = data_time[(data_time['VendorID'] == 1) & (data_time['day'] == 3)]\n",
    "data_time_day1_ID4 = data_time[(data_time['VendorID'] == 1) & (data_time['day'] == 4)]\n",
    "data_time_day1_ID5 = data_time[(data_time['VendorID'] == 1) & (data_time['day'] == 5)]\n",
    "data_time_day1_ID6 = data_time[(data_time['VendorID'] == 1) & (data_time['day'] == 6)]\n",
    "\n",
    "print(\"平台1day1位置信息:\",data_time_day1_ID1.shape)\n",
    "print(\"平台1day2位置信息:\",data_time_day1_ID2.shape)\n",
    "print(\"平台1day3位置信息:\",data_time_day1_ID3.shape)\n",
    "print(\"平台1day4位置信息:\",data_time_day1_ID4.shape)\n",
    "print(\"平台1day5位置信息:\",data_time_day1_ID5.shape)\n",
    "print(\"平台1day6位置信息:\",data_time_day1_ID6.shape)"
   ]
  },
  {
   "cell_type": "code",
   "execution_count": 59,
   "metadata": {},
   "outputs": [],
   "source": [
    "def paint_map(name,data):\n",
    "    # 初始化地图\n",
    "    m = folium.Map(location=[data['pickup_latitude'].mean(),data['pickup_longitude'].mean()],zoom_start=15)\n",
    "\n",
    "    # 初始化点聚类\n",
    "    mc = MarkerCluster()\n",
    "    for idx,row in data.iterrows():\n",
    "        mc.add_child(Marker([row['pickup_latitude'],row['pickup_longitude']]))\n",
    "    m.add_child(mc)\n",
    "    m.save(os.path.join('F:\\study\\Python project\\PythonDataAnalysis\\Practical training\\\\Uber\\everyday_gps_map_id1\\\\',name))"
   ]
  },
  {
   "cell_type": "code",
   "execution_count": 60,
   "metadata": {},
   "outputs": [],
   "source": [
    "# paint_map('day1.html',data_time_day1_ID1)\n",
    "# paint_map('day2.html',data_time_day1_ID2)\n",
    "# paint_map('day3.html',data_time_day1_ID3)\n",
    "# paint_map('day4.html',data_time_day1_ID4)\n",
    "# paint_map('day5.html',data_time_day1_ID5)\n",
    "# paint_map('day6.html',data_time_day1_ID6)"
   ]
  },
  {
   "cell_type": "markdown",
   "metadata": {},
   "source": [
    "# 展示所有网约车的定位信息"
   ]
  },
  {
   "cell_type": "markdown",
   "metadata": {},
   "source": [
    "# 不要轻易运行"
   ]
  },
  {
   "cell_type": "code",
   "execution_count": 61,
   "metadata": {},
   "outputs": [],
   "source": [
    "# # 初始化地图\n",
    "# m_2 = folium.Map(location=[data_time['pickup_latitude'].mean(),data_time['pickup_longitude'].mean()],zoom_start=15)\n",
    "#\n",
    "# # 初始化点聚类\n",
    "# mc = MarkerCluster()\n",
    "# for idx,row in data_time.iterrows():\n",
    "#     mc.add_child(Marker([row['pickup_latitude'],row['pickup_longitude']]))\n",
    "# m_2.add_child(mc)\n",
    "# m_2.save(\"F:\\study\\Python project\\PythonDataAnalysis\\Practical training\\\\Uber\\\\all_data.html\")"
   ]
  },
  {
   "cell_type": "markdown",
   "metadata": {},
   "source": [
    "## 热力图"
   ]
  },
  {
   "cell_type": "code",
   "execution_count": 62,
   "metadata": {},
   "outputs": [],
   "source": [
    "# 初始化地图\n",
    "m_3 = folium.Map(location=[data_time['pickup_latitude'].mean(),data_time['pickup_longitude'].mean()],zoom_start=15)\n",
    "\n",
    "# 增加热力图\n",
    "HeatMap(data = data_time[['pickup_latitude','pickup_longitude']],radius=15).add_to(m_3)\n",
    "m_3.save(\"F:\\study\\Python project\\PythonDataAnalysis\\Practical training\\\\Uber\\\\all_data_heat_map.html\")"
   ]
  },
  {
   "cell_type": "code",
   "execution_count": 63,
   "outputs": [],
   "source": [
    "def heat_map(data, name):\n",
    "    # 初始化地图\n",
    "    m_3 = folium.Map(location=[data['pickup_latitude'].mean(), data['pickup_longitude'].mean()], zoom_start=15)\n",
    "\n",
    "    # 增加热力图\n",
    "    HeatMap(data=data[['pickup_latitude', 'pickup_longitude']], radius=15).add_to(m_3)\n",
    "    m_3.save(os.path.join(\"F:\\study\\Python project\\PythonDataAnalysis\\Practical training\\\\Uber\\\\everyday_gps_map_id1\\\\\",\n",
    "                          name))\n",
    "heat_map(data_time,'heatmap.html')"
   ],
   "metadata": {
    "collapsed": false
   }
  },
  {
   "cell_type": "code",
   "execution_count": 64,
   "outputs": [
    {
     "data": {
      "text/plain": "    VendorID tpep_pickup_datetime tpep_dropoff_datetime  passenger_count  \\\n14         1  2016-01-01 00:00:04   2016-01-01 00:14:32                1   \n15         1  2016-01-01 00:00:05   2016-01-01 00:14:27                2   \n17         2  2016-01-01 00:00:05   2016-01-01 00:07:14                1   \n19         2  2016-01-01 00:00:06   2016-01-01 00:07:14                1   \n22         2  2016-01-01 00:00:08   2016-01-01 00:18:51                1   \n\n    trip_distance  pickup_longitude  pickup_latitude  RatecodeID  \\\n14           3.70        -74.004303        40.742241           1   \n15           2.20        -73.991997        40.718578           1   \n17           1.92        -73.973091        40.795361           1   \n19           1.38        -73.994843        40.718498           1   \n22           3.09        -73.999069        40.720173           1   \n\n   store_and_fwd_flag  dropoff_longitude  ...  fare_amount  extra  mta_tax  \\\n14                  N         -74.007362  ...         14.0    0.5      0.5   \n15                  N         -74.005135  ...         11.0    0.5      0.5   \n17                  N         -73.978371  ...          7.5    0.5      0.5   \n19                  N         -73.989807  ...          7.0    0.5      0.5   \n22                  N         -73.973389  ...         14.5    0.5      0.5   \n\n    tip_amount  tolls_amount  improvement_surcharge  total_amount  distance  \\\n14        3.05           0.0                    0.3         18.35  1.133931   \n15        1.50           0.0                    0.3         13.80  1.600947   \n17        0.00           0.0                    0.3          8.80  0.899645   \n19        1.66           0.0                    0.3          9.96  0.739059   \n22        0.00           0.0                    0.3         15.80  3.065961   \n\n    data_delta_T  day  \n14         868.0    1  \n15         862.0    1  \n17         429.0    1  \n19         428.0    1  \n22        1123.0    1  \n\n[5 rows x 22 columns]",
      "text/html": "<div>\n<style scoped>\n    .dataframe tbody tr th:only-of-type {\n        vertical-align: middle;\n    }\n\n    .dataframe tbody tr th {\n        vertical-align: top;\n    }\n\n    .dataframe thead th {\n        text-align: right;\n    }\n</style>\n<table border=\"1\" class=\"dataframe\">\n  <thead>\n    <tr style=\"text-align: right;\">\n      <th></th>\n      <th>VendorID</th>\n      <th>tpep_pickup_datetime</th>\n      <th>tpep_dropoff_datetime</th>\n      <th>passenger_count</th>\n      <th>trip_distance</th>\n      <th>pickup_longitude</th>\n      <th>pickup_latitude</th>\n      <th>RatecodeID</th>\n      <th>store_and_fwd_flag</th>\n      <th>dropoff_longitude</th>\n      <th>...</th>\n      <th>fare_amount</th>\n      <th>extra</th>\n      <th>mta_tax</th>\n      <th>tip_amount</th>\n      <th>tolls_amount</th>\n      <th>improvement_surcharge</th>\n      <th>total_amount</th>\n      <th>distance</th>\n      <th>data_delta_T</th>\n      <th>day</th>\n    </tr>\n  </thead>\n  <tbody>\n    <tr>\n      <th>14</th>\n      <td>1</td>\n      <td>2016-01-01 00:00:04</td>\n      <td>2016-01-01 00:14:32</td>\n      <td>1</td>\n      <td>3.70</td>\n      <td>-74.004303</td>\n      <td>40.742241</td>\n      <td>1</td>\n      <td>N</td>\n      <td>-74.007362</td>\n      <td>...</td>\n      <td>14.0</td>\n      <td>0.5</td>\n      <td>0.5</td>\n      <td>3.05</td>\n      <td>0.0</td>\n      <td>0.3</td>\n      <td>18.35</td>\n      <td>1.133931</td>\n      <td>868.0</td>\n      <td>1</td>\n    </tr>\n    <tr>\n      <th>15</th>\n      <td>1</td>\n      <td>2016-01-01 00:00:05</td>\n      <td>2016-01-01 00:14:27</td>\n      <td>2</td>\n      <td>2.20</td>\n      <td>-73.991997</td>\n      <td>40.718578</td>\n      <td>1</td>\n      <td>N</td>\n      <td>-74.005135</td>\n      <td>...</td>\n      <td>11.0</td>\n      <td>0.5</td>\n      <td>0.5</td>\n      <td>1.50</td>\n      <td>0.0</td>\n      <td>0.3</td>\n      <td>13.80</td>\n      <td>1.600947</td>\n      <td>862.0</td>\n      <td>1</td>\n    </tr>\n    <tr>\n      <th>17</th>\n      <td>2</td>\n      <td>2016-01-01 00:00:05</td>\n      <td>2016-01-01 00:07:14</td>\n      <td>1</td>\n      <td>1.92</td>\n      <td>-73.973091</td>\n      <td>40.795361</td>\n      <td>1</td>\n      <td>N</td>\n      <td>-73.978371</td>\n      <td>...</td>\n      <td>7.5</td>\n      <td>0.5</td>\n      <td>0.5</td>\n      <td>0.00</td>\n      <td>0.0</td>\n      <td>0.3</td>\n      <td>8.80</td>\n      <td>0.899645</td>\n      <td>429.0</td>\n      <td>1</td>\n    </tr>\n    <tr>\n      <th>19</th>\n      <td>2</td>\n      <td>2016-01-01 00:00:06</td>\n      <td>2016-01-01 00:07:14</td>\n      <td>1</td>\n      <td>1.38</td>\n      <td>-73.994843</td>\n      <td>40.718498</td>\n      <td>1</td>\n      <td>N</td>\n      <td>-73.989807</td>\n      <td>...</td>\n      <td>7.0</td>\n      <td>0.5</td>\n      <td>0.5</td>\n      <td>1.66</td>\n      <td>0.0</td>\n      <td>0.3</td>\n      <td>9.96</td>\n      <td>0.739059</td>\n      <td>428.0</td>\n      <td>1</td>\n    </tr>\n    <tr>\n      <th>22</th>\n      <td>2</td>\n      <td>2016-01-01 00:00:08</td>\n      <td>2016-01-01 00:18:51</td>\n      <td>1</td>\n      <td>3.09</td>\n      <td>-73.999069</td>\n      <td>40.720173</td>\n      <td>1</td>\n      <td>N</td>\n      <td>-73.973389</td>\n      <td>...</td>\n      <td>14.5</td>\n      <td>0.5</td>\n      <td>0.5</td>\n      <td>0.00</td>\n      <td>0.0</td>\n      <td>0.3</td>\n      <td>15.80</td>\n      <td>3.065961</td>\n      <td>1123.0</td>\n      <td>1</td>\n    </tr>\n  </tbody>\n</table>\n<p>5 rows × 22 columns</p>\n</div>"
     },
     "execution_count": 64,
     "metadata": {},
     "output_type": "execute_result"
    }
   ],
   "source": [
    "data_time.head()"
   ],
   "metadata": {
    "collapsed": false
   }
  },
  {
   "cell_type": "markdown",
   "source": [
    "## 条形图绘制和处理数据"
   ],
   "metadata": {
    "collapsed": false
   }
  },
  {
   "cell_type": "code",
   "execution_count": 65,
   "metadata": {},
   "outputs": [
    {
     "data": {
      "text/plain": "    VendorID  day  total_amount  trip_distance  order_count\n0          1    1     658295.06      123755.10        52626\n1          1    2     632467.80      113299.60        51896\n2          1    3     567231.57      104994.10        48116\n3          1    4     587761.23      101037.50        50037\n4          1    5     659548.65      109604.50        53961\n5          1    6     694612.97      115701.60        55484\n6          2    1     908568.33      174871.05        73154\n7          2    2     798124.67      145981.17        65857\n8          2    3     688889.30      130195.58        58253\n9          2    4     708977.09      123285.45        59544\n10         2    5     806852.15      135998.93        65616\n11         2    6     847553.38      142976.23        67276",
      "text/html": "<div>\n<style scoped>\n    .dataframe tbody tr th:only-of-type {\n        vertical-align: middle;\n    }\n\n    .dataframe tbody tr th {\n        vertical-align: top;\n    }\n\n    .dataframe thead th {\n        text-align: right;\n    }\n</style>\n<table border=\"1\" class=\"dataframe\">\n  <thead>\n    <tr style=\"text-align: right;\">\n      <th></th>\n      <th>VendorID</th>\n      <th>day</th>\n      <th>total_amount</th>\n      <th>trip_distance</th>\n      <th>order_count</th>\n    </tr>\n  </thead>\n  <tbody>\n    <tr>\n      <th>0</th>\n      <td>1</td>\n      <td>1</td>\n      <td>658295.06</td>\n      <td>123755.10</td>\n      <td>52626</td>\n    </tr>\n    <tr>\n      <th>1</th>\n      <td>1</td>\n      <td>2</td>\n      <td>632467.80</td>\n      <td>113299.60</td>\n      <td>51896</td>\n    </tr>\n    <tr>\n      <th>2</th>\n      <td>1</td>\n      <td>3</td>\n      <td>567231.57</td>\n      <td>104994.10</td>\n      <td>48116</td>\n    </tr>\n    <tr>\n      <th>3</th>\n      <td>1</td>\n      <td>4</td>\n      <td>587761.23</td>\n      <td>101037.50</td>\n      <td>50037</td>\n    </tr>\n    <tr>\n      <th>4</th>\n      <td>1</td>\n      <td>5</td>\n      <td>659548.65</td>\n      <td>109604.50</td>\n      <td>53961</td>\n    </tr>\n    <tr>\n      <th>5</th>\n      <td>1</td>\n      <td>6</td>\n      <td>694612.97</td>\n      <td>115701.60</td>\n      <td>55484</td>\n    </tr>\n    <tr>\n      <th>6</th>\n      <td>2</td>\n      <td>1</td>\n      <td>908568.33</td>\n      <td>174871.05</td>\n      <td>73154</td>\n    </tr>\n    <tr>\n      <th>7</th>\n      <td>2</td>\n      <td>2</td>\n      <td>798124.67</td>\n      <td>145981.17</td>\n      <td>65857</td>\n    </tr>\n    <tr>\n      <th>8</th>\n      <td>2</td>\n      <td>3</td>\n      <td>688889.30</td>\n      <td>130195.58</td>\n      <td>58253</td>\n    </tr>\n    <tr>\n      <th>9</th>\n      <td>2</td>\n      <td>4</td>\n      <td>708977.09</td>\n      <td>123285.45</td>\n      <td>59544</td>\n    </tr>\n    <tr>\n      <th>10</th>\n      <td>2</td>\n      <td>5</td>\n      <td>806852.15</td>\n      <td>135998.93</td>\n      <td>65616</td>\n    </tr>\n    <tr>\n      <th>11</th>\n      <td>2</td>\n      <td>6</td>\n      <td>847553.38</td>\n      <td>142976.23</td>\n      <td>67276</td>\n    </tr>\n  </tbody>\n</table>\n</div>"
     },
     "execution_count": 65,
     "metadata": {},
     "output_type": "execute_result"
    }
   ],
   "source": [
    "#根据网约平台和日期求出当天的行驶总距离、车费总收入、接单量。\n",
    "uber_total= data_time[[\"VendorID\",\"tpep_pickup_datetime\",\"total_amount\",\"trip_distance\"]].copy()\n",
    "uber_total[\"trip_distance\"]=pd.to_numeric(uber_total[\"trip_distance\"])\n",
    "uber_total[\"day\"] = uber_total[\"tpep_pickup_datetime\"].dt.day\n",
    "# 给每一行数据标一个1 最后sum统计订单总量\n",
    "uber_total[\"order_count\"] = 1\n",
    "uber_total= uber_total.groupby([\"VendorID\",\"day\"]).sum().reset_index()\n",
    "uber_total"
   ]
  },
  {
   "cell_type": "code",
   "execution_count": 66,
   "outputs": [],
   "source": [
    "# 需要转换成 float类型不然 显示不出来图像\n",
    "uber_total[\"order_count\"]=uber_total[\"order_count\"].astype('float')"
   ],
   "metadata": {
    "collapsed": false
   }
  },
  {
   "cell_type": "code",
   "execution_count": 67,
   "outputs": [
    {
     "name": "stdout",
     "output_type": "stream",
     "text": [
      "   VendorID  day  total_amount  trip_distance  order_count\n",
      "0         1    1     658295.06       123755.1      52626.0\n",
      "1         1    2     632467.80       113299.6      51896.0\n",
      "2         1    3     567231.57       104994.1      48116.0\n",
      "3         1    4     587761.23       101037.5      50037.0\n",
      "4         1    5     659548.65       109604.5      53961.0\n",
      "5         1    6     694612.97       115701.6      55484.0\n",
      "   VendorID  day  total_amount  trip_distance  order_count\n",
      "0         2    1     908568.33      174871.05      73154.0\n",
      "1         2    2     798124.67      145981.17      65857.0\n",
      "2         2    3     688889.30      130195.58      58253.0\n",
      "3         2    4     708977.09      123285.45      59544.0\n",
      "4         2    5     806852.15      135998.93      65616.0\n",
      "5         2    6     847553.38      142976.23      67276.0\n"
     ]
    }
   ],
   "source": [
    "#取出平台1的统计信息\n",
    "uber_total_VendorID_1=uber_total.loc[uber_total['VendorID']==1]\n",
    "print(uber_total_VendorID_1)\n",
    "#取出平台2的统计信息\n",
    "uber_total_VendorID_2=uber_total.loc[uber_total['VendorID']==2]\n",
    "uber_total_VendorID_2.index=range(len(uber_total_VendorID_2.reset_index()))\n",
    "print(uber_total_VendorID_2)"
   ],
   "metadata": {
    "collapsed": false
   }
  },
  {
   "cell_type": "code",
   "execution_count": 68,
   "outputs": [
    {
     "data": {
      "text/plain": "VendorID           int64\nday                int64\ntotal_amount     float64\ntrip_distance    float64\norder_count      float64\ndtype: object"
     },
     "execution_count": 68,
     "metadata": {},
     "output_type": "execute_result"
    }
   ],
   "source": [
    "uber_total_VendorID_1.dtypes"
   ],
   "metadata": {
    "collapsed": false
   }
  },
  {
   "cell_type": "code",
   "execution_count": 69,
   "outputs": [],
   "source": [
    "# df_sub.dtypes"
   ],
   "metadata": {
    "collapsed": false
   }
  },
  {
   "cell_type": "markdown",
   "source": [
    "## 条形图绘制"
   ],
   "metadata": {
    "collapsed": false
   }
  },
  {
   "cell_type": "code",
   "execution_count": 70,
   "metadata": {},
   "outputs": [
    {
     "data": {
      "text/plain": "'F:\\\\study\\\\Python project\\\\PythonDataAnalysis\\\\Practical training\\\\Uber\\\\可视化\\\\total.html'"
     },
     "execution_count": 70,
     "metadata": {},
     "output_type": "execute_result"
    }
   ],
   "source": [
    "tl = Timeline()\n",
    "for i in range(1,7):\n",
    "    df_sub=uber_total[uber_total[\"day\"]==i].sort_values(by=['total_amount','trip_distance','order_count'])\n",
    "    costs_list=list(df_sub['total_amount'])\n",
    "    count_list=list(df_sub['order_count'])\n",
    "    distance_list=list(df_sub['trip_distance'])\n",
    "    y=[]\n",
    "\n",
    "    bar = (\n",
    "        Bar()\n",
    "        .add_xaxis(['平台1','平台2'])\n",
    "        .add_yaxis(\"总收入\", list(np.round(costs_list,2)))\n",
    "        .add_yaxis(\"总订单\", count_list)\n",
    "        .add_yaxis(\"总里程数\", distance_list)\n",
    "        .set_global_opts(title_opts=opts.TitleOpts(\"1、2平台第{}天对比情况\".format(i)))\n",
    "    )\n",
    "    tl.add(bar, \"第{}天\".format(i))\n",
    "# tl.render_notebook()\n",
    "tl.render(\"F:\\study\\Python project\\PythonDataAnalysis\\Practical training\\\\Uber\\可视化\\\\total.html\")"
   ]
  },
  {
   "cell_type": "markdown",
   "source": [
    "## 饼图绘制"
   ],
   "metadata": {
    "collapsed": false
   }
  },
  {
   "cell_type": "code",
   "execution_count": 71,
   "outputs": [
    {
     "data": {
      "text/plain": "'F:\\\\study\\\\Python project\\\\PythonDataAnalysis\\\\Practical training\\\\Uber\\\\可视化\\\\pie_chart.html'"
     },
     "execution_count": 71,
     "metadata": {},
     "output_type": "execute_result"
    }
   ],
   "source": [
    "from pyecharts.globals import ThemeType\n",
    "from pyecharts.charts import Pie, Timeline,Grid\n",
    "\n",
    "t3 = Timeline(init_opts=opts.InitOpts(width=\"900px\", height=\"600px\", theme=ThemeType.CHALK))\n",
    "attr = ['平台1的总收入','平台2的总收入']\n",
    "attr1=['平台1的总订单数','平台2的总订单数']\n",
    "attr2=['平台1的总里程数','平台2的总里程数']\n",
    "t3 = Timeline()\n",
    "for i in range(1, 7):\n",
    "    df_sub_1=uber_total_VendorID_1[uber_total_VendorID_1[\"day\"]==i].sort_values(by=['total_amount','trip_distance','order_count'])\n",
    "    costs_list_1=list(df_sub_1['total_amount'])\n",
    "    count_list_1=list(df_sub_1['order_count'])\n",
    "    distance_list_1=list(df_sub_1['trip_distance'])\n",
    "    df_sub_2=uber_total_VendorID_2[uber_total_VendorID_2[\"day\"]==i].sort_values(by=['total_amount','trip_distance','order_count'])\n",
    "    costs_list_2=list(df_sub_2['total_amount'])\n",
    "    count_list_2=list(df_sub_2['order_count'])\n",
    "    distance_list_2=list(df_sub_2['trip_distance'])\n",
    "    y1=[]\n",
    "\n",
    "    pie = (\n",
    "        Pie()\n",
    "        .add(\n",
    "            \"\",\n",
    "            [list(z) for z in zip(attr, [list(np.round(costs_list_1,2)),\\\n",
    "                                         list(np.round(costs_list_2,2))])],\n",
    "            rosetype=\"radius\",\n",
    "           radius=[\"20%\", \"50%\"],\n",
    "        )\n",
    "        .set_global_opts(title_opts=opts.TitleOpts(\"平台1、2第{}天总收入占比\".format(i)))\n",
    "    )\n",
    "    pie1 = (\n",
    "        Pie()\n",
    "        .add(\n",
    "            \"\",\n",
    "            [list(z) for z in zip(attr1, [list(np.round(count_list_1,2)),\\\n",
    "                                         list(np.round(count_list_2,2))])],\n",
    "            rosetype=\"radius\",\n",
    "           radius=[\"20%\", \"50%\"],\n",
    "        )\n",
    "        .set_global_opts(title_opts=opts.TitleOpts(\"平台1、2第{}天总订单数占比\".format(i)))\n",
    "    )\n",
    "\n",
    "    pie2 = (\n",
    "        Pie()\n",
    "        .add(\n",
    "            \"\",\n",
    "            [list(z) for z in zip(attr2, [list(np.round(distance_list_1,2)),\\\n",
    "                                         list(np.round(distance_list_2,2))])],\n",
    "            rosetype=\"radius\",\n",
    "           radius=[\"20%\", \"50%\"],\n",
    "        )\n",
    "        .set_global_opts(title_opts=opts.TitleOpts(\"平台1、2第{}天总里程数占比\".format(i)))\n",
    "        )\n",
    "\n",
    "\n",
    "    grid = (\n",
    "    Grid()\n",
    "        .add(pie, grid_opts=opts.GridOpts(pos_top=\"10%\", pos_right=\"30%\"))\n",
    "        .add(pie1, grid_opts=opts.GridOpts(pos_top=\"10%\",pos_left=\"30%\"))\n",
    "        .add(pie2, grid_opts=opts.GridOpts(pos_top=\"10%\",pos_left=\"30%\"))\n",
    "    )\n",
    "    t3.add(pie, \"第{}天\".format(i))\n",
    "    t3.add(pie1, \"第{}天\".format(i))\n",
    "    t3.add(pie2, \"第{}天\".format(i))\n",
    "#t3.render_notebook()\n",
    "t3.render(\"F:\\study\\Python project\\PythonDataAnalysis\\Practical training\\\\Uber\\可视化\\pie_chart.html\")"
   ],
   "metadata": {
    "collapsed": false
   }
  },
  {
   "cell_type": "code",
   "execution_count": 72,
   "outputs": [
    {
     "data": {
      "text/plain": "VendorID           int64\nday                int64\ntotal_amount     float64\ntrip_distance    float64\norder_count      float64\ndtype: object"
     },
     "execution_count": 72,
     "metadata": {},
     "output_type": "execute_result"
    }
   ],
   "source": [
    "uber_total_VendorID_1.dtypes"
   ],
   "metadata": {
    "collapsed": false
   }
  },
  {
   "cell_type": "code",
   "execution_count": 73,
   "outputs": [
    {
     "data": {
      "text/plain": "'F:\\\\study\\\\Python project\\\\PythonDataAnalysis\\\\Practical training\\\\Uber\\\\可视化\\\\pie_chart1.html'"
     },
     "execution_count": 73,
     "metadata": {},
     "output_type": "execute_result"
    }
   ],
   "source": [
    "#饼图时间轮播\n",
    "from pyecharts import options as opts\n",
    "from pyecharts.charts import Pie, Timeline,Grid\n",
    "from pyecharts.globals import ThemeType\n",
    "#from pyecharts.faker import Faker\n",
    "\n",
    "attr = ['平台1的总收入','平台2的总收入']\n",
    "attr1=['平台1的总订单数','平台2的总订单数']\n",
    "attr2=['平台1的总里程数','平台2的总里程数']\n",
    "t2 = Timeline(init_opts=opts.InitOpts(width=\"900px\", height=\"600px\", theme=ThemeType.CHALK))\n",
    "for i in range(1, 7):\n",
    "    df_sub_1=uber_total_VendorID_1[uber_total_VendorID_1[\"day\"]==i].sort_values(by=['total_amount','trip_distance','order_count'])\n",
    "    costs_list_1=list(df_sub_1['total_amount'])\n",
    "    count_list_1=list(df_sub_1['order_count'])\n",
    "    distance_list_1=list(df_sub_1['trip_distance'])\n",
    "    df_sub_2=uber_total_VendorID_2[uber_total_VendorID_2[\"day\"]==i].sort_values(by=['total_amount','trip_distance','order_count'])\n",
    "    costs_list_2=list(df_sub_2['total_amount'])\n",
    "    count_list_2=list(df_sub_2['order_count'])\n",
    "    distance_list_2=list(df_sub_2['trip_distance'])\n",
    "    y1=[]\n",
    "\n",
    "    pie = (\n",
    "        Pie(init_opts=opts.InitOpts(theme=ThemeType.CHALK))\n",
    "        .add(\n",
    "            \"访问来源\",\n",
    "            [list(z) for z in zip(attr, [list(np.round(costs_list_1,2)),\\\n",
    "                                         list(np.round(costs_list_2,2))])],\n",
    "            rosetype=\"radius\",\n",
    "            radius=[\"20%\", \"50%\"],\n",
    "\n",
    "            label_opts=opts.LabelOpts(\n",
    "                position=\"outside\",\n",
    "\n",
    "                formatter=\"{a|{a}}{abg|}\\n{hr|}\\n {b|{b}: }{c}  {per|{d}%}  \",\n",
    "                background_color=\"black\",\n",
    "                border_color=\"#aaa\",\n",
    "                border_width=1,\n",
    "                border_radius=4,\n",
    "                rich={\n",
    "                    \"a\": {\"color\": \"skyblue\", \"lineHeight\": 22, \"align\": \"center\"},\n",
    "                    \"abg\": {\n",
    "                        \"backgroundColor\": \"black\",\n",
    "                        \"width\": \"100%\",\n",
    "                        \"align\": \"right\",\n",
    "                        \"height\": 22,\n",
    "                        \"borderRadius\": [4, 4, 0, 0],\n",
    "                    },\n",
    "                    \"hr\": {\n",
    "                        \"borderColor\": \"skyblue\",\n",
    "                        \"width\": \"100%\",\n",
    "                        \"borderWidth\": 0.5,\n",
    "                        \"height\": 0,\n",
    "                    },\n",
    "                    \"b\": {\"fontSize\": 16, \"lineHeight\": 33},\n",
    "                    \"per\": {\n",
    "                        \"color\": \"black\",\n",
    "                        \"backgroundColor\": \"skyblue\",\n",
    "                        \"padding\": [2, 4],\n",
    "                        \"borderRadius\": 2,\n",
    "                    },\n",
    "                },\n",
    "            ),\n",
    "        )\n",
    "        .set_global_opts(title_opts=opts.TitleOpts(\"平台1、2第{}天总收入占比\".format(i)))\n",
    "    )\n",
    "    pie1 = (\n",
    "        Pie(init_opts=opts.InitOpts(theme=ThemeType.CHALK))\n",
    "        .add(\n",
    "            \"\",\n",
    "            [list(z) for z in zip(attr1, [list(np.round(count_list_1,2)),\\\n",
    "                                         list(np.round(count_list_2,2))])],\n",
    "            rosetype=\"radius\",\n",
    "           radius=[\"20%\", \"50%\"],\n",
    "        )\n",
    "        .set_global_opts(title_opts=opts.TitleOpts(\"平台1、2第{}天总订单数占比\".format(i)))\n",
    "    )\n",
    "\n",
    "    pie2 = (\n",
    "        Pie(init_opts=opts.InitOpts(theme=ThemeType.CHALK))\n",
    "        .add(\n",
    "            \"\",\n",
    "            [list(z) for z in zip(attr2, [list(np.round(distance_list_1,2)),\\\n",
    "                                         list(np.round(distance_list_2,2))])],\n",
    "            rosetype=\"area\",\n",
    "           radius=[\"20%\", \"50%\"],\n",
    "        )\n",
    "        .set_global_opts(title_opts=opts.TitleOpts(\"平台1、2第{}天总里程数占比\".format(i)))\n",
    "        )\n",
    "\n",
    "\n",
    "    grid = (\n",
    "    Grid(init_opts=opts.InitOpts(theme=ThemeType.CHALK))\n",
    "        .add(pie, grid_opts=opts.GridOpts(pos_top=\"10%\", pos_right=\"30%\"))\n",
    "        .add(pie1, grid_opts=opts.GridOpts(pos_top=\"10%\",pos_left=\"30%\"))\n",
    "        .add(pie2, grid_opts=opts.GridOpts(pos_top=\"10%\",pos_left=\"30%\"))\n",
    "    )\n",
    "    t2.add(pie, \"{}日\".format(i))\n",
    "    t2.add(pie1, \"{}日\".format(i))\n",
    "    t2.add(pie2, \"{}日\".format(i))\n",
    "    t2.add_schema(is_auto_play=True,play_interval=1500)\n",
    "#t2.render_notebook()\n",
    "t2.render('F:\\study\\Python project\\PythonDataAnalysis\\Practical training\\\\Uber\\可视化\\pie_chart1.html')\n"
   ],
   "metadata": {
    "collapsed": false
   }
  },
  {
   "cell_type": "code",
   "execution_count": 74,
   "metadata": {},
   "outputs": [],
   "source": [
    "# # 平台2\n",
    "# vendorID2 = uber_total[uber_total['VendorID']==2]\n",
    "# vendorID2"
   ]
  },
  {
   "cell_type": "code",
   "execution_count": 75,
   "metadata": {},
   "outputs": [
    {
     "data": {
      "text/plain": "Index(['VendorID', 'tpep_pickup_datetime', 'tpep_dropoff_datetime',\n       'passenger_count', 'trip_distance', 'pickup_longitude',\n       'pickup_latitude', 'RatecodeID', 'store_and_fwd_flag',\n       'dropoff_longitude', 'dropoff_latitude', 'payment_type', 'fare_amount',\n       'extra', 'mta_tax', 'tip_amount', 'tolls_amount',\n       'improvement_surcharge', 'total_amount', 'distance', 'data_delta_T',\n       'day'],\n      dtype='object')"
     },
     "execution_count": 75,
     "metadata": {},
     "output_type": "execute_result"
    }
   ],
   "source": [
    "data_time.columns"
   ]
  },
  {
   "cell_type": "markdown",
   "metadata": {},
   "source": [
    "## 预测用户目的地位置"
   ]
  },
  {
   "cell_type": "code",
   "execution_count": 76,
   "outputs": [
    {
     "data": {
      "text/plain": "{1, 2, 3, 4}"
     },
     "execution_count": 76,
     "metadata": {},
     "output_type": "execute_result"
    }
   ],
   "source": [
    "set(data_time['payment_type'])"
   ],
   "metadata": {
    "collapsed": false
   }
  },
  {
   "cell_type": "code",
   "execution_count": 77,
   "outputs": [],
   "source": [
    "# 取出数据中的目标值和特征值\n",
    "\n",
    "# 目标值 支付方式\n",
    "# 特征值 乘客总数 总费用 路程 乘车平台 接单地点经纬度 目的地经纬度\n",
    "y = data_time[['payment_type']]\n",
    "\n",
    "x = data_time[['passenger_count','total_amount','trip_distance','VendorID','pickup_longitude','pickup_latitude','dropoff_longitude','dropoff_latitude']]\n",
    "\n",
    "\n",
    "# x = data_time.drop['VendorID','tpep_dropoff_datetime','trip_distance','RatecodeID','store_and_fwd_flag','fare_amount','extra','mta_tax','tip_amount','tools_amount','improvement_surcharge','total_amount','distance','data_delta_T','dropoff_lon_lat']"
   ],
   "metadata": {
    "collapsed": false
   }
  },
  {
   "cell_type": "code",
   "execution_count": 78,
   "outputs": [
    {
     "name": "stderr",
     "output_type": "stream",
     "text": [
      "D:\\Anaconda\\envs\\jupy\\lib\\site-packages\\sklearn\\neighbors\\_classification.py:207: DataConversionWarning: A column-vector y was passed when a 1d array was expected. Please change the shape of y to (n_samples,), for example using ravel().\n",
      "  return self._fit(X, y)\n"
     ]
    },
    {
     "name": "stdout",
     "output_type": "stream",
     "text": [
      "使用支付方式： [1 1 2 ... 2 1 1]\n",
      "预测的准确率: 0.7258727308996609\n"
     ]
    }
   ],
   "source": [
    "# 预测 用户的支付方式\n",
    "\n",
    "x_train,x_test,y_train,y_test = train_test_split(x,y,test_size=0.25)\n",
    "std = StandardScaler()\n",
    "\n",
    "# 对测试集和训练集的特征值进行标准化\n",
    "x_train = std.fit_transform(x_train)\n",
    "x_test = std.fit_transform(x_test)\n",
    "\n",
    "# 进行算法流程 # 超参数\n",
    "knn = KNeighborsClassifier()\n",
    "\n",
    "# fit， predict,score\n",
    "knn.fit(x_train, y_train)\n",
    "\n",
    "# 得出预测结果\n",
    "y_predict = knn.predict(x_test)\n",
    "\n",
    "print(\"使用支付方式：\", y_predict)\n",
    "\n",
    "# 得出准确率\n",
    "print(\"预测的准确率:\", knn.score(x_test, y_test))"
   ],
   "metadata": {
    "collapsed": false
   }
  }
 ],
 "metadata": {
  "kernelspec": {
   "display_name": "Python 3 (ipykernel)",
   "language": "python",
   "name": "python3"
  },
  "language_info": {
   "codemirror_mode": {
    "name": "ipython",
    "version": 3
   },
   "file_extension": ".py",
   "mimetype": "text/x-python",
   "name": "python",
   "nbconvert_exporter": "python",
   "pygments_lexer": "ipython3",
   "version": "3.10.6"
  }
 },
 "nbformat": 4,
 "nbformat_minor": 1
}
